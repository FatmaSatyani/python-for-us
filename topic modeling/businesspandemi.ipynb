{
 "cells": [
  {
   "cell_type": "markdown",
   "metadata": {},
   "source": [
    "# Loading data"
   ]
  },
  {
   "cell_type": "code",
   "execution_count": 59,
   "metadata": {},
   "outputs": [
    {
     "data": {
      "text/html": [
       "<div>\n",
       "<style scoped>\n",
       "    .dataframe tbody tr th:only-of-type {\n",
       "        vertical-align: middle;\n",
       "    }\n",
       "\n",
       "    .dataframe tbody tr th {\n",
       "        vertical-align: top;\n",
       "    }\n",
       "\n",
       "    .dataframe thead th {\n",
       "        text-align: right;\n",
       "    }\n",
       "</style>\n",
       "<table border=\"1\" class=\"dataframe\">\n",
       "  <thead>\n",
       "    <tr style=\"text-align: right;\">\n",
       "      <th></th>\n",
       "      <th>headline</th>\n",
       "      <th>summary</th>\n",
       "      <th>headline_text</th>\n",
       "    </tr>\n",
       "  </thead>\n",
       "  <tbody>\n",
       "    <tr>\n",
       "      <th>0</th>\n",
       "      <td>Plafon KUR 2021 Naik Jadi Rp 253 T, Ini Strate...</td>\n",
       "      <td>Selain itu, pemerintah juga memutuskan untuk m...</td>\n",
       "      <td>Kementerian Koordinator Bidang Perekonomian me...</td>\n",
       "    </tr>\n",
       "    <tr>\n",
       "      <th>1</th>\n",
       "      <td>Buka-bukaan Pelabuhan Tanjung Priok soal Arus ...</td>\n",
       "      <td>Penurunan trafik logistik karena berbagai kegi...</td>\n",
       "      <td>Wabah COVID-19 yang secara resmi dinyatakan se...</td>\n",
       "    </tr>\n",
       "    <tr>\n",
       "      <th>2</th>\n",
       "      <td>Di Tengah Pandemi, Pengusaha Restoran Ekspansi...</td>\n",
       "      <td>Pandemi COVID-19 belum usai, namun tidak pengu...</td>\n",
       "      <td>Pandemi COVID-19 belum usai, namun tidak pengu...</td>\n",
       "    </tr>\n",
       "    <tr>\n",
       "      <th>3</th>\n",
       "      <td>Bagaimana Cara Holding Asuransi Jaga Keuangan ...</td>\n",
       "      <td>Indonesia Financial Group (IFG) atau BUMN Hold...</td>\n",
       "      <td>Indonesia Financial Group (IFG) atau BUMN Hold...</td>\n",
       "    </tr>\n",
       "    <tr>\n",
       "      <th>4</th>\n",
       "      <td>Pandemi Nggak Ngaruh, Ibu Muda Ini Raup Cuan B...</td>\n",
       "      <td>Pandemi COVID-19 tak menyurutkan Amanda Treesh...</td>\n",
       "      <td>Pandemi COVID-19 tak menyurutkan Amanda Treesh...</td>\n",
       "    </tr>\n",
       "  </tbody>\n",
       "</table>\n",
       "</div>"
      ],
      "text/plain": [
       "                                            headline  \\\n",
       "0  Plafon KUR 2021 Naik Jadi Rp 253 T, Ini Strate...   \n",
       "1  Buka-bukaan Pelabuhan Tanjung Priok soal Arus ...   \n",
       "2  Di Tengah Pandemi, Pengusaha Restoran Ekspansi...   \n",
       "3  Bagaimana Cara Holding Asuransi Jaga Keuangan ...   \n",
       "4  Pandemi Nggak Ngaruh, Ibu Muda Ini Raup Cuan B...   \n",
       "\n",
       "                                             summary  \\\n",
       "0  Selain itu, pemerintah juga memutuskan untuk m...   \n",
       "1  Penurunan trafik logistik karena berbagai kegi...   \n",
       "2  Pandemi COVID-19 belum usai, namun tidak pengu...   \n",
       "3  Indonesia Financial Group (IFG) atau BUMN Hold...   \n",
       "4  Pandemi COVID-19 tak menyurutkan Amanda Treesh...   \n",
       "\n",
       "                                       headline_text  \n",
       "0  Kementerian Koordinator Bidang Perekonomian me...  \n",
       "1  Wabah COVID-19 yang secara resmi dinyatakan se...  \n",
       "2  Pandemi COVID-19 belum usai, namun tidak pengu...  \n",
       "3  Indonesia Financial Group (IFG) atau BUMN Hold...  \n",
       "4  Pandemi COVID-19 tak menyurutkan Amanda Treesh...  "
      ]
     },
     "execution_count": 59,
     "metadata": {},
     "output_type": "execute_result"
    }
   ],
   "source": [
    "import pandas as pd \n",
    "import numpy as np\n",
    "\n",
    "#agar mudah, letakkan file data dalam satu folder dengan file jupiter notebook nya\n",
    "business_data = pd.read_csv(\"businesspandemi.csv\")\n",
    "\n",
    "business_data.head()"
   ]
  },
  {
   "cell_type": "markdown",
   "metadata": {},
   "source": [
    "# lower case"
   ]
  },
  {
   "cell_type": "code",
   "execution_count": 60,
   "metadata": {
    "scrolled": true
   },
   "outputs": [
    {
     "name": "stdout",
     "output_type": "stream",
     "text": [
      "Case Folding Result : \n",
      "\n",
      "0    kementerian koordinator bidang perekonomian me...\n",
      "1    wabah covid-19 yang secara resmi dinyatakan se...\n",
      "2    pandemi covid-19 belum usai, namun tidak pengu...\n",
      "3    indonesia financial group (ifg) atau bumn hold...\n",
      "4    pandemi covid-19 tak menyurutkan amanda treesh...\n",
      "Name: headline_text, dtype: object\n"
     ]
    }
   ],
   "source": [
    "# ------ Case Folding --------\n",
    "# gunakan fungsi Series.str.lower() pada Pandas\n",
    "business_data['headline_text'] = business_data['headline_text'].str.lower()\n",
    "\n",
    "print('Case Folding Result : \\n')\n",
    "print(business_data['headline_text'].head(5))"
   ]
  },
  {
   "cell_type": "markdown",
   "metadata": {},
   "source": [
    "# Tokenizing\n",
    "Memecah teks menjadi perkata, dan membersihkan simbol-simbol"
   ]
  },
  {
   "cell_type": "code",
   "execution_count": 90,
   "metadata": {},
   "outputs": [
    {
     "name": "stderr",
     "output_type": "stream",
     "text": [
      "<>:16: DeprecationWarning: invalid escape sequence \\w\n",
      "<>:42: DeprecationWarning: invalid escape sequence \\s\n",
      "<>:16: DeprecationWarning: invalid escape sequence \\w\n",
      "<>:42: DeprecationWarning: invalid escape sequence \\s\n",
      "<ipython-input-90-9b25906f0b55>:16: DeprecationWarning: invalid escape sequence \\w\n",
      "  text = ' '.join(re.sub(\"([@#][A-Za-z0-9]+)|(\\w+:\\/\\/\\S+)\",\" \", text).split())\n",
      "<ipython-input-90-9b25906f0b55>:42: DeprecationWarning: invalid escape sequence \\s\n",
      "  return re.sub('\\s+',' ',text)\n"
     ]
    },
    {
     "name": "stdout",
     "output_type": "stream",
     "text": [
      "Tokenizing Result : \n",
      "\n",
      "0    [kementerian, koordinator, bidang, perekonomia...\n",
      "1    [wabah, covid, yang, secara, resmi, dinyatakan...\n",
      "2    [pandemi, covid, belum, usai, namun, tidak, pe...\n",
      "3    [indonesia, financial, group, ifg, atau, bumn,...\n",
      "4    [pandemi, covid, tak, menyurutkan, amanda, tre...\n",
      "Name: headline_text_tokens, dtype: object\n"
     ]
    }
   ],
   "source": [
    "import string \n",
    "import re #regex library\n",
    "\n",
    "# import word_tokenize & FreqDist from NLTK\n",
    "from nltk.tokenize import word_tokenize \n",
    "from nltk.probability import FreqDist\n",
    "\n",
    "# ------ Tokenizing ---------\n",
    "\n",
    "def remove_tweet_special(text):\n",
    "    # remove tab, new line, ans back slice\n",
    "    text = text.replace('\\\\t',\" \").replace('\\\\n',\" \").replace('\\\\u',\" \").replace('\\\\',\"\")\n",
    "    # remove non ASCII (emoticon, chinese word, .etc)\n",
    "    text = text.encode('ascii', 'replace').decode('ascii')\n",
    "    # remove mention, link, hashtag\n",
    "    text = ' '.join(re.sub(\"([@#][A-Za-z0-9]+)|(\\w+:\\/\\/\\S+)\",\" \", text).split())\n",
    "    # remove incomplete URL\n",
    "    return text.replace(\"http://\", \" \").replace(\"https://\", \" \")\n",
    "                \n",
    "business_data['headline_text'] = business_data['headline_text'].apply(remove_tweet_special)\n",
    "\n",
    "#remove number\n",
    "def remove_number(text):\n",
    "    return  re.sub(r\"\\d+\", \"\", text)\n",
    "\n",
    "business_data['headline_text'] = business_data['headline_text'].apply(remove_number)\n",
    "\n",
    "#remove punctuation\n",
    "def remove_punctuation(text):\n",
    "    return text.translate(str.maketrans(\"\",\"\",string.punctuation))\n",
    "\n",
    "business_data['headline_text'] = business_data['headline_text'].apply(remove_punctuation)\n",
    "\n",
    "#remove whitespace leading & trailing\n",
    "def remove_whitespace_LT(text):\n",
    "    return text.strip()\n",
    "\n",
    "business_data['headline_text'] = business_data['headline_text'].apply(remove_whitespace_LT)\n",
    "\n",
    "#remove multiple whitespace into single whitespace\n",
    "def remove_whitespace_multiple(text):\n",
    "    return re.sub('\\s+',' ',text)\n",
    "\n",
    "business_data['headline_text'] = business_data['headline_text'].apply(remove_whitespace_multiple)\n",
    "\n",
    "# remove single char\n",
    "def remove_singl_char(text):\n",
    "    return re.sub(r\"\\b[a-zA-Z]\\b\", \"\", text)\n",
    "\n",
    "business_data['headline_text'] = business_data['headline_text'].apply(remove_singl_char)\n",
    "\n",
    "# NLTK word rokenize \n",
    "def word_tokenize_wrapper(text):\n",
    "    return word_tokenize(text)\n",
    "\n",
    "business_data['headline_text_tokens'] = business_data['headline_text'].apply(word_tokenize_wrapper)\n",
    "\n",
    "print('Tokenizing Result : \\n') \n",
    "print(business_data['headline_text_tokens'].head())"
   ]
  },
  {
   "cell_type": "markdown",
   "metadata": {},
   "source": [
    "# NLTK calc frequency distribution\n",
    "Menghitung frequency tiap kata"
   ]
  },
  {
   "cell_type": "code",
   "execution_count": 62,
   "metadata": {},
   "outputs": [
    {
     "name": "stdout",
     "output_type": "stream",
     "text": [
      "Frequency Tokens : \n",
      "\n",
      "0    [(kur, 5), (tahun, 4), (ini, 4), (bri, 4), (pe...\n",
      "1    [(pelabuhan, 19), (yang, 14), (dan, 13), (di, ...\n",
      "2    [(di, 13), (yang, 8), (pandemi, 5), (cut, 5), ...\n",
      "3    [(dan, 16), (ifg, 11), (asuransi, 11), (yang, ...\n",
      "4    [(di, 13), (kita, 11), (amanda, 7), (ini, 7), ...\n",
      "Name: headline_text_tokens_fdist, dtype: object\n"
     ]
    }
   ],
   "source": [
    "# NLTK calc frequency distribution\n",
    "def freqDist_wrapper(text):\n",
    "    return FreqDist(text)\n",
    "\n",
    "business_data['headline_text_tokens_fdist'] = business_data['headline_text_tokens'].apply(freqDist_wrapper)\n",
    "\n",
    "print('Frequency Tokens : \\n') \n",
    "print(business_data['headline_text_tokens_fdist'].head().apply(lambda x : x.most_common()))"
   ]
  },
  {
   "cell_type": "markdown",
   "metadata": {},
   "source": [
    "# Stopwords\n",
    "Membersihkan teks dari kata-kata yang termasuk ke dalam stopwords"
   ]
  },
  {
   "cell_type": "code",
   "execution_count": 64,
   "metadata": {},
   "outputs": [
    {
     "name": "stdout",
     "output_type": "stream",
     "text": [
      "0    [kementerian, koordinator, bidang, perekonomia...\n",
      "1    [wabah, covid, resmi, dinyatakan, world, healt...\n",
      "2    [covid, pengusaha, restoran, membuka, peluang,...\n",
      "3    [financial, group, ifg, bumn, holding, asurans...\n",
      "4    [covid, menyurutkan, amanda, treeshasanti, men...\n",
      "Name: headline_text_tokens_WSW, dtype: object\n"
     ]
    }
   ],
   "source": [
    "from nltk.corpus import stopwords\n",
    "\n",
    "# ----------------------- get stopword from NLTK stopword -------------------------------\n",
    "# get stopword indonesia\n",
    "list_stopwords = stopwords.words('bahasa')\n",
    "\n",
    "\n",
    "# ---------------------------- manualy add stopword  ------------------------------------\n",
    "# append additional stopword\n",
    "list_stopwords.extend([\"yg\", \"dg\", \"rt\", \"dgn\", \"ny\", \"d\", 'klo', \n",
    "                       'kalo', 'amp', 'biar', 'bikin', 'bilang', \n",
    "                       'gak', 'ga', 'krn', 'nya', 'nih', 'sih', \n",
    "                       'si', 'tau', 'tdk', 'tuh', 'utk', 'ya', \n",
    "                       'jd', 'jgn', 'sdh', 'aja', 'n', 't', \n",
    "                       'nyg', 'hehe', 'pen', 'u', 'nan', 'loh', 'rt',\n",
    "                       '&amp', 'yah', 'bisnis', 'pandemi', 'indonesia'])\n",
    "\n",
    "# convert list to dictionary\n",
    "list_stopwords = set(list_stopwords)\n",
    "\n",
    "#remove stopword pada list token\n",
    "def stopwords_removal(words):\n",
    "    return [word for word in words if word not in list_stopwords]\n",
    "\n",
    "business_data['headline_text_tokens_WSW'] = business_data['headline_text_tokens'].apply(stopwords_removal) \n",
    "\n",
    "print(business_data['headline_text_tokens_WSW'].head())"
   ]
  },
  {
   "cell_type": "markdown",
   "metadata": {},
   "source": [
    "# Normalisasi\n",
    "Mengganti kata-kata tertentu dengan kata lain yang lebih tepat"
   ]
  },
  {
   "cell_type": "code",
   "execution_count": 65,
   "metadata": {},
   "outputs": [
    {
     "name": "stderr",
     "output_type": "stream",
     "text": [
      "D:\\Application\\Anaconda3\\lib\\site-packages\\xlrd\\xlsx.py:266: DeprecationWarning: This method will be removed in future versions.  Use 'tree.iter()' or 'list(tree.iter())' instead.\n",
      "  for elem in self.tree.iter() if Element_has_iter else self.tree.getiterator():\n",
      "D:\\Application\\Anaconda3\\lib\\site-packages\\xlrd\\xlsx.py:312: DeprecationWarning: This method will be removed in future versions.  Use 'tree.iter()' or 'list(tree.iter())' instead.\n",
      "  for elem in self.tree.iter() if Element_has_iter else self.tree.getiterator():\n",
      "D:\\Application\\Anaconda3\\lib\\site-packages\\xlrd\\xlsx.py:266: DeprecationWarning: This method will be removed in future versions.  Use 'tree.iter()' or 'list(tree.iter())' instead.\n",
      "  for elem in self.tree.iter() if Element_has_iter else self.tree.getiterator():\n"
     ]
    },
    {
     "data": {
      "text/plain": [
       "0    [kementerian, koordinator, bidang, perekonomia...\n",
       "1    [wabah, covid, resmi, dinyatakan, world, healt...\n",
       "2    [covid, pengusaha, restoran, membuka, peluang,...\n",
       "3    [financial, group, ifg, bumn, holding, asurans...\n",
       "4    [covid, menyurutkan, amanda, treeshasanti, men...\n",
       "5    [covid, mengubah, perilaku, masyarakat, restor...\n",
       "6    [arif, muhammad, terkenal, content, creator, i...\n",
       "7    [pt, bank, rakyat, persero, tbk, mencatatkan, ...\n",
       "8    [kb, kookmin, bank, bank, nomor, korea, selata...\n",
       "9    [virus, corona, memaksa, orang, ketat, mengatu...\n",
       "Name: headline_text_normalized, dtype: object"
      ]
     },
     "execution_count": 65,
     "metadata": {},
     "output_type": "execute_result"
    }
   ],
   "source": [
    "normalizad_word = pd.read_excel(\"normalisasi.xlsx\")\n",
    "\n",
    "normalizad_word_dict = {}\n",
    "\n",
    "for index, row in normalizad_word.iterrows():\n",
    "    if row[0] not in normalizad_word_dict:\n",
    "        normalizad_word_dict[row[0]] = row[1] \n",
    "\n",
    "def normalized_term(document):\n",
    "    return [normalizad_word_dict[term] if term in normalizad_word_dict else term for term in document]\n",
    "\n",
    "business_data['headline_text_normalized'] = business_data['headline_text_tokens_WSW'].apply(normalized_term)\n",
    "\n",
    "business_data['headline_text_normalized'].head(10)"
   ]
  },
  {
   "cell_type": "markdown",
   "metadata": {},
   "source": [
    "# Sastrawi stemmer\n",
    "Mengganti kata-kata ber imbuhan menjadi kata dasarnya"
   ]
  },
  {
   "cell_type": "code",
   "execution_count": 66,
   "metadata": {},
   "outputs": [
    {
     "name": "stdout",
     "output_type": "stream",
     "text": [
      "10485\n"
     ]
    }
   ],
   "source": [
    "# import Sastrawi package\n",
    "from Sastrawi.Stemmer.StemmerFactory import StemmerFactory\n",
    "import swifter\n",
    "\n",
    "# create stemmer\n",
    "factory = StemmerFactory()\n",
    "stemmer = factory.create_stemmer()\n",
    "\n",
    "# stemmed\n",
    "def stemmed_wrapper(term):\n",
    "    return stemmer.stem(term)\n",
    "\n",
    "term_dict = {}\n",
    "\n",
    "for document in business_data['headline_text_normalized']:\n",
    "    for term in document:\n",
    "        if term not in term_dict:\n",
    "            term_dict[term] = ' '\n",
    "            \n",
    "print(len(term_dict))\n"
   ]
  },
  {
   "cell_type": "code",
   "execution_count": 96,
   "metadata": {},
   "outputs": [],
   "source": [
    "for term in term_dict:\n",
    "    term_dict[term] = stemmed_wrapper(term)\n",
    "    \n",
    "    # untuk melihat hasilnya silahkan jalankan baris di bawah ini\n",
    "    # print(term,\":\" ,term_dict[term])"
   ]
  },
  {
   "cell_type": "code",
   "execution_count": 98,
   "metadata": {},
   "outputs": [],
   "source": [
    "# untuk melihat hasilnya silahkan jalankan baris di bawah ini\n",
    "# print(term_dict)"
   ]
  },
  {
   "cell_type": "code",
   "execution_count": 69,
   "metadata": {},
   "outputs": [
    {
     "data": {
      "application/vnd.jupyter.widget-view+json": {
       "model_id": "fc2430205bbf419c966220c5c7b41bd1",
       "version_major": 2,
       "version_minor": 0
      },
      "text/plain": [
       "HBox(children=(FloatProgress(value=0.0, description='Pandas Apply', max=265.0, style=ProgressStyle(description…"
      ]
     },
     "metadata": {},
     "output_type": "display_data"
    },
    {
     "name": "stdout",
     "output_type": "stream",
     "text": [
      "\n",
      "0      [menteri, koordinator, bidang, ekonomi, tingka...\n",
      "1      [wabah, covid, resmi, nyata, world, health, or...\n",
      "2      [covid, usaha, restoran, buka, peluang, daerah...\n",
      "3      [financial, group, ifg, bumn, holding, asurans...\n",
      "4      [covid, surut, amanda, treeshasanti, jalan, ku...\n",
      "                             ...                        \n",
      "260    [online, kembang, pesat, covid, batas, ruang, ...\n",
      "261    [grab, perintah, provinsi, pemprov, jawa, timu...\n",
      "262    [bahas, rancang, undangundang, ruu, omnibus, l...\n",
      "263    [urban, farming, tani, kota, tren, covid, masy...\n",
      "264    [covid, industri, hibur, malam, paksa, tutup, ...\n",
      "Name: headline_text_tokens_stemmed, Length: 265, dtype: object\n"
     ]
    }
   ],
   "source": [
    "# apply stemmed term to dataframe\n",
    "def get_stemmed_term(document):\n",
    "    return [term_dict[term] for term in document]\n",
    "\n",
    "business_data['headline_text_tokens_stemmed'] = business_data['headline_text_normalized'].swifter.apply(get_stemmed_term)\n",
    "\n",
    "print(business_data['headline_text_tokens_stemmed'])"
   ]
  },
  {
   "cell_type": "code",
   "execution_count": 70,
   "metadata": {},
   "outputs": [
    {
     "data": {
      "text/plain": [
       "0    [menteri, koordinator, bidang, ekonomi, tingka...\n",
       "1    [wabah, covid, resmi, nyata, world, health, or...\n",
       "2    [covid, usaha, restoran, buka, peluang, daerah...\n",
       "3    [financial, group, ifg, bumn, holding, asurans...\n",
       "4    [covid, surut, amanda, treeshasanti, jalan, ku...\n",
       "Name: headline_text_tokens_stemmed, dtype: object"
      ]
     },
     "execution_count": 70,
     "metadata": {},
     "output_type": "execute_result"
    }
   ],
   "source": [
    "business_data['headline_text_tokens_stemmed'][0:5]"
   ]
  },
  {
   "cell_type": "code",
   "execution_count": 92,
   "metadata": {},
   "outputs": [
    {
     "data": {
      "text/plain": [
       "['covid', 'industri', 'hiburan', 'malam', 'dipaksa']"
      ]
     },
     "execution_count": 92,
     "metadata": {},
     "output_type": "execute_result"
    }
   ],
   "source": [
    "for i in range(len(business_data)):\n",
    "        a=business_data.iloc[i][6]\n",
    "        document.append(a)\n",
    "        \n",
    "document[0:5]"
   ]
  },
  {
   "cell_type": "code",
   "execution_count": 72,
   "metadata": {},
   "outputs": [
    {
     "data": {
      "text/plain": [
       "0      [menteri, koordinator, bidang, ekonomi, tingka...\n",
       "1      [wabah, covid, resmi, nyata, world, health, or...\n",
       "2      [covid, usaha, restoran, buka, peluang, daerah...\n",
       "3      [financial, group, ifg, bumn, holding, asurans...\n",
       "4      [covid, surut, amanda, treeshasanti, jalan, ku...\n",
       "                             ...                        \n",
       "260    [online, kembang, pesat, covid, batas, ruang, ...\n",
       "261    [grab, perintah, provinsi, pemprov, jawa, timu...\n",
       "262    [bahas, rancang, undangundang, ruu, omnibus, l...\n",
       "263    [urban, farming, tani, kota, tren, covid, masy...\n",
       "264    [covid, industri, hibur, malam, paksa, tutup, ...\n",
       "Name: headline_text_tokens_stemmed, Length: 265, dtype: object"
      ]
     },
     "execution_count": 72,
     "metadata": {},
     "output_type": "execute_result"
    }
   ],
   "source": [
    "doc_clean = business_data['headline_text_tokens_stemmed']\n",
    "doc_clean"
   ]
  },
  {
   "cell_type": "code",
   "execution_count": 73,
   "metadata": {},
   "outputs": [
    {
     "name": "stdout",
     "output_type": "stream",
     "text": [
      "Dictionary(7715 unique tokens: ['agen', 'akibat', 'akselerasi', 'aplikasi', 'bangkit']...)\n"
     ]
    }
   ],
   "source": [
    "import gensim\n",
    "from gensim import corpora\n",
    "\n",
    "dictionary = corpora.Dictionary(doc_clean)\n",
    "print(dictionary)\n",
    "\n",
    "doc_term_matrix = [dictionary.doc2bow(doc) for doc in doc_clean]"
   ]
  },
  {
   "cell_type": "markdown",
   "metadata": {},
   "source": [
    "# LDA model using gensim\n",
    "Proses topic modeling dengan LDA gensim"
   ]
  },
  {
   "cell_type": "code",
   "execution_count": 75,
   "metadata": {},
   "outputs": [],
   "source": [
    "# Creating the object for LDA model using gensim library\n",
    "Lda = gensim.models.ldamodel.LdaModel\n",
    "\n",
    "total_topics = 5 # jumlah topik yang akan di extract\n",
    "number_words = 15 # jumlah kata per topik"
   ]
  },
  {
   "cell_type": "code",
   "execution_count": 76,
   "metadata": {},
   "outputs": [
    {
     "data": {
      "text/plain": [
       "[(0,\n",
       "  '0.015*\"as\" + 0.008*\"israel\" + 0.008*\"negara\" + 0.007*\"china\" + 0.007*\"kereta\" + 0.006*\"sepakat\" + 0.006*\"trump\" + 0.006*\"jalan\" + 0.006*\"terbang\" + 0.005*\"orang\" + 0.005*\"iran\" + 0.005*\"corona\" + 0.005*\"usaha\" + 0.004*\"covid\" + 0.004*\"turun\"'),\n",
       " (1,\n",
       "  '0.016*\"usaha\" + 0.013*\"jual\" + 0.012*\"produk\" + 0.009*\"digital\" + 0.006*\"online\" + 0.006*\"rumah\" + 0.006*\"langgan\" + 0.006*\"milik\" + 0.006*\"kembang\" + 0.005*\"makan\" + 0.005*\"tingkat\" + 0.005*\"butuh\" + 0.005*\"strategi\" + 0.005*\"beli\" + 0.005*\"layan\"'),\n",
       " (2,\n",
       "  '0.034*\"bintaro\" + 0.027*\"transpark\" + 0.014*\"huni\" + 0.011*\"fasilitas\" + 0.010*\"kawasan\" + 0.008*\"lift\" + 0.008*\"tower\" + 0.006*\"unjung\" + 0.006*\"lengkap\" + 0.006*\"sedia\" + 0.006*\"investasi\" + 0.005*\"wahana\" + 0.005*\"snow\" + 0.005*\"salju\" + 0.005*\"informasi\"'),\n",
       " (3,\n",
       "  '0.011*\"usaha\" + 0.009*\"covid\" + 0.006*\"layan\" + 0.005*\"mitra\" + 0.005*\"milik\" + 0.005*\"shopeepay\" + 0.005*\"sehat\" + 0.005*\"tingkat\" + 0.004*\"laku\" + 0.004*\"umkm\" + 0.004*\"strategi\" + 0.004*\"salah\" + 0.004*\"hasil\" + 0.004*\"taspen\" + 0.004*\"ovo\"'),\n",
       " (4,\n",
       "  '0.013*\"ekonomi\" + 0.009*\"bank\" + 0.009*\"usaha\" + 0.009*\"umkm\" + 0.008*\"kerja\" + 0.008*\"covid\" + 0.008*\"tingkat\" + 0.007*\"rupiah\" + 0.006*\"sektor\" + 0.006*\"perintah\" + 0.005*\"triliun\" + 0.005*\"program\" + 0.005*\"pulih\" + 0.005*\"strategi\" + 0.005*\"industri\"')]"
      ]
     },
     "execution_count": 76,
     "metadata": {},
     "output_type": "execute_result"
    }
   ],
   "source": [
    "# Running and Trainign LDA model on the document term matrix.\n",
    "lda_model = Lda(doc_term_matrix, num_topics=total_topics, id2word = dictionary, passes=50)\n",
    "\n",
    "lda_model.show_topics(num_topics=total_topics, num_words=number_words)"
   ]
  },
  {
   "cell_type": "code",
   "execution_count": 77,
   "metadata": {},
   "outputs": [
    {
     "name": "stdout",
     "output_type": "stream",
     "text": [
      "         word  topic_id  importance  word_count\n",
      "0          as         0    0.014517         185\n",
      "1      israel         0    0.008180         101\n",
      "2      negara         0    0.007897         231\n",
      "3       china         0    0.007122          97\n",
      "4      kereta         0    0.007114         109\n",
      "5     sepakat         0    0.006482          80\n",
      "6       trump         0    0.006375          79\n",
      "7       jalan         0    0.005815         264\n",
      "8     terbang         0    0.005674          77\n",
      "9       orang         0    0.005368         275\n",
      "10      usaha         1    0.015679         678\n",
      "11       jual         1    0.013109         309\n",
      "12     produk         1    0.012436         298\n",
      "13    digital         1    0.009486         306\n",
      "14     online         1    0.006437         167\n",
      "15      rumah         1    0.006271         230\n",
      "16    langgan         1    0.006220         153\n",
      "17      milik         1    0.005972         291\n",
      "18    kembang         1    0.005794         271\n",
      "19      makan         1    0.005338         125\n",
      "20    bintaro         2    0.034042         488\n",
      "21  transpark         2    0.027348         392\n",
      "22       huni         2    0.014296         206\n",
      "23  fasilitas         2    0.011360         187\n",
      "24    kawasan         2    0.010268         166\n",
      "25       lift         2    0.008381         120\n",
      "26      tower         2    0.007824         114\n",
      "27     unjung         2    0.005605          91\n",
      "28    lengkap         2    0.005601         104\n",
      "29      sedia         2    0.005544         145\n",
      "30      usaha         3    0.010791         678\n",
      "31      covid         3    0.008756         422\n",
      "32      layan         3    0.006036         209\n",
      "33      mitra         3    0.005095         117\n",
      "34      milik         3    0.005081         291\n",
      "35  shopeepay         3    0.004904          56\n",
      "36      sehat         3    0.004743         222\n",
      "37    tingkat         3    0.004513         368\n",
      "38       laku         3    0.004488         240\n",
      "39       umkm         3    0.003988         285\n",
      "40    ekonomi         4    0.012957         392\n",
      "41       bank         4    0.009367         251\n",
      "42      usaha         4    0.009070         678\n",
      "43       umkm         4    0.008833         285\n",
      "44      kerja         4    0.008214         331\n",
      "45      covid         4    0.008209         422\n",
      "46    tingkat         4    0.007659         368\n",
      "47     rupiah         4    0.006606         246\n",
      "48     sektor         4    0.006036         189\n",
      "49   perintah         4    0.005903         219\n"
     ]
    }
   ],
   "source": [
    "# Word Count of Topic Keywords\n",
    "\n",
    "from collections import Counter\n",
    "topics = lda_model.show_topics(formatted=False)\n",
    "data_flat = [w for w_list in doc_clean for w in w_list]\n",
    "counter = Counter(data_flat)\n",
    "\n",
    "out = []\n",
    "for i, topic in topics:\n",
    "    for word, weight in topic:\n",
    "        out.append([word, i , weight, counter[word]])\n",
    "\n",
    "df_imp_wcount = pd.DataFrame(out, columns=['word', 'topic_id', 'importance', 'word_count']) \n",
    "print(df_imp_wcount)"
   ]
  },
  {
   "cell_type": "code",
   "execution_count": 78,
   "metadata": {},
   "outputs": [],
   "source": [
    "#Dominant topic and its percentage contribution in each topic\n",
    "def format_topics_sentences(ldamodel=None, corpus=doc_term_matrix, texts=document):\n",
    "    # Init output\n",
    "    sent_topics_df = pd.DataFrame()\n",
    "\n",
    "    # Get main topic in each document\n",
    "    for i, row_list in enumerate(ldamodel[corpus]):\n",
    "        row = row_list[0] if ldamodel.per_word_topics else row_list            \n",
    "        # print(row)\n",
    "        row = sorted(row, key=lambda x: (x[1]), reverse=True)\n",
    "        # Get the Dominant topic, Perc Contribution and Keywords for each document\n",
    "        for j, (topic_num, prop_topic) in enumerate(row):\n",
    "            if j == 0:  # => dominant topic\n",
    "                wp = ldamodel.show_topic(topic_num)\n",
    "                topic_keywords = \", \".join([word for word, prop in wp])\n",
    "                sent_topics_df = sent_topics_df.append(pd.Series([int(topic_num), round(prop_topic,4), topic_keywords]), ignore_index=True)\n",
    "            else:\n",
    "                break\n",
    "    sent_topics_df.columns = ['Dominant_Topic', 'Perc_Contribution', 'Topic_Keywords']\n",
    "\n",
    "    # Add original text to the end of the output\n",
    "    contents = pd.Series(texts)\n",
    "    sent_topics_df = pd.concat([sent_topics_df, contents], axis=1)\n",
    "    return(sent_topics_df)"
   ]
  },
  {
   "cell_type": "code",
   "execution_count": 79,
   "metadata": {},
   "outputs": [
    {
     "name": "stdout",
     "output_type": "stream",
     "text": [
      "   Document_No  Dominant_Topic  Topic_Perc_Contrib  \\\n",
      "0            0             4.0              0.9935   \n",
      "1            1             0.0              0.7653   \n",
      "2            2             0.0              0.4597   \n",
      "3            3             3.0              0.9965   \n",
      "4            4             1.0              0.9952   \n",
      "5            5             1.0              0.5137   \n",
      "6            6             4.0              0.6749   \n",
      "7            7             4.0              0.6887   \n",
      "8            8             3.0              0.9960   \n",
      "9            9             2.0              0.6960   \n",
      "\n",
      "                                            Keywords  \\\n",
      "0  ekonomi, bank, usaha, umkm, kerja, covid, ting...   \n",
      "1  as, israel, negara, china, kereta, sepakat, tr...   \n",
      "2  as, israel, negara, china, kereta, sepakat, tr...   \n",
      "3  usaha, covid, layan, mitra, milik, shopeepay, ...   \n",
      "4  usaha, jual, produk, digital, online, rumah, l...   \n",
      "5  usaha, jual, produk, digital, online, rumah, l...   \n",
      "6  ekonomi, bank, usaha, umkm, kerja, covid, ting...   \n",
      "7  ekonomi, bank, usaha, umkm, kerja, covid, ting...   \n",
      "8  usaha, covid, layan, mitra, milik, shopeepay, ...   \n",
      "9  bintaro, transpark, huni, fasilitas, kawasan, ...   \n",
      "\n",
      "                                                Text  \n",
      "0  [menteri, koordinator, bidang, ekonomi, tingka...  \n",
      "1  [wabah, covid, resmi, nyata, world, health, or...  \n",
      "2  [covid, usaha, restoran, buka, peluang, daerah...  \n",
      "3  [financial, group, ifg, bumn, holding, asurans...  \n",
      "4  [covid, surut, amanda, treeshasanti, jalan, ku...  \n",
      "5  [covid, ubah, perilaku, masyarakat, restoran, ...  \n",
      "6  [arif, muhammad, kenal, content, creator, infl...  \n",
      "7  [pt, bank, rakyat, persero, tbk, catat, tumbuh...  \n",
      "8  [kb, kookmin, bank, bank, nomor, korea, selata...  \n",
      "9  [virus, corona, paksa, orang, ketat, atur, kel...  \n"
     ]
    }
   ],
   "source": [
    "df_topic_sents_keywords = format_topics_sentences(ldamodel=lda_model, corpus=doc_term_matrix, texts=doc_clean)\n",
    "\n",
    "# Format\n",
    "df_dominant_topic = df_topic_sents_keywords.reset_index()\n",
    "df_dominant_topic.columns = ['Document_No', 'Dominant_Topic', 'Topic_Perc_Contrib', 'Keywords', 'Text']\n",
    "print(df_dominant_topic.head(10))"
   ]
  },
  {
   "cell_type": "markdown",
   "metadata": {},
   "source": [
    "# visualization package pyLDAvis"
   ]
  },
  {
   "cell_type": "code",
   "execution_count": 83,
   "metadata": {},
   "outputs": [],
   "source": [
    "import pyLDAvis.gensim\n",
    "import pickle \n",
    "import pyLDAvis\n",
    "# Visualize the topics\n",
    "pyLDAvis.enable_notebook()"
   ]
  },
  {
   "cell_type": "code",
   "execution_count": 84,
   "metadata": {},
   "outputs": [],
   "source": [
    "import os\n",
    "LDAvis_data_filepath = os.path.join('ldavis_prepared_'+str(total_topics))"
   ]
  },
  {
   "cell_type": "code",
   "execution_count": 85,
   "metadata": {},
   "outputs": [],
   "source": [
    "corpus = [dictionary.doc2bow(text) for text in doc_clean]"
   ]
  },
  {
   "cell_type": "code",
   "execution_count": 86,
   "metadata": {},
   "outputs": [],
   "source": [
    "# proses ini mungkin agak lama\n",
    "if 1 == 1:\n",
    "    LDAvis_prepared = pyLDAvis.gensim.prepare(lda_model, corpus, dictionary)\n",
    "    with open(LDAvis_data_filepath, 'wb') as f:\n",
    "        pickle.dump(LDAvis_prepared, f)"
   ]
  },
  {
   "cell_type": "code",
   "execution_count": 87,
   "metadata": {},
   "outputs": [],
   "source": [
    "# load the pre-prepared pyLDAvis data from disk\n",
    "with open(LDAvis_data_filepath, 'rb') as f:\n",
    "    LDAvis_prepared = pickle.load(f)"
   ]
  },
  {
   "cell_type": "code",
   "execution_count": 88,
   "metadata": {},
   "outputs": [],
   "source": [
    "pyLDAvis.save_html(LDAvis_prepared, 'ldavis_prepared_'+ str(total_topics) +'.html')"
   ]
  },
  {
   "cell_type": "code",
   "execution_count": 89,
   "metadata": {},
   "outputs": [
    {
     "data": {
      "text/html": [
       "\n",
       "<link rel=\"stylesheet\" type=\"text/css\" href=\"https://cdn.rawgit.com/bmabey/pyLDAvis/files/ldavis.v1.0.0.css\">\n",
       "\n",
       "\n",
       "<div id=\"ldavis_el1516821372242259524086750675\"></div>\n",
       "<script type=\"text/javascript\">\n",
       "\n",
       "var ldavis_el1516821372242259524086750675_data = {\"mdsDat\": {\"x\": [0.10251493959329137, 0.05871926520508741, -0.3036291611155313, 0.0734841099921985, 0.06891084632495377], \"y\": [0.039088269020641324, 0.08894383583778112, -0.0012253176064922042, -0.18882081001345366, 0.06201402276152321], \"topics\": [1, 2, 3, 4, 5], \"cluster\": [1, 1, 1, 1, 1], \"Freq\": [29.704439163208008, 23.083166122436523, 18.019216537475586, 15.316038131713867, 13.877140045166016]}, \"tinfo\": {\"Term\": [\"bintaro\", \"transpark\", \"huni\", \"as\", \"fasilitas\", \"produk\", \"kawasan\", \"lift\", \"jual\", \"israel\", \"bank\", \"tower\", \"digital\", \"usaha\", \"china\", \"sepakat\", \"umkm\", \"trump\", \"kereta\", \"wahana\", \"snow\", \"salju\", \"ekonomi\", \"trans\", \"terbang\", \"unjung\", \"triliun\", \"iran\", \"bri\", \"mall\", \"bri\", \"bni\", \"iii\", \"perban\", \"argentina\", \"nixon\", \"yoy\", \"festival\", \"sunarso\", \"dpk\", \"jt\", \"kur\", \"clip\", \"silvano\", \"bci\", \"akreditasi\", \"pesantren\", \"taufan\", \"bjb\", \"express\", \"pia\", \"triliun\", \"bi\", \"pariwisata\", \"pnm\", \"ibm\", \"kemenparekraf\", \"trend\", \"asean\", \"agung\", \"kredit\", \"komite\", \"laba\", \"persero\", \"open\", \"bank\", \"btn\", \"tarif\", \"salur\", \"airlangga\", \"ekonomi\", \"jabar\", \"kuartal\", \"desa\", \"umkm\", \"sektor\", \"tbk\", \"pulih\", \"kontribusi\", \"konstruksi\", \"program\", \"catat\", \"rupiah\", \"tumbuh\", \"perintah\", \"kerja\", \"menteri\", \"tingkat\", \"covid\", \"industri\", \"uang\", \"direktur\", \"usaha\", \"laku\", \"pasar\", \"strategi\", \"digital\", \"masyarakat\", \"dunia\", \"dampak\", \"negara\", \"turun\", \"kembang\", \"nggak\", \"telkomsel\", \"salon\", \"bridgestone\", \"crm\", \"kedai\", \"algo\", \"lee\", \"generasi\", \"babi\", \"kuping\", \"rei\", \"marketplace\", \"tokopedia\", \"pss\", \"esports\", \"robinhood\", \"telekomunikasi\", \"faizal\", \"ramesh\", \"sleman\", \"ruu\", \"ikhsan\", \"roti\", \"banget\", \"rambut\", \"royke\", \"gulali\", \"urbanisasi\", \"staf\", \"tipu\", \"rajin\", \"kopi\", \"jual\", \"produk\", \"website\", \"makan\", \"milenial\", \"langgan\", \"thailand\", \"online\", \"olah\", \"telepon\", \"aplikasi\", \"gojek\", \"omzet\", \"beli\", \"digital\", \"tim\", \"usaha\", \"rumah\", \"promosi\", \"toko\", \"platform\", \"butuh\", \"kembang\", \"teknologi\", \"milik\", \"bantu\", \"inovasi\", \"layan\", \"konsumen\", \"langsung\", \"masyarakat\", \"strategi\", \"orang\", \"salah\", \"tingkat\", \"laku\", \"pasar\", \"manfaat\", \"kerja\", \"covid\", \"juta\", \"rupiah\", \"jalan\", \"bintaro\", \"transpark\", \"lift\", \"huni\", \"salju\", \"snow\", \"wahana\", \"garden\", \"indah\", \"manhattan\", \"kids\", \"bedrooms\", \"dok\", \"signature\", \"pondok\", \"sakura\", \"terrace\", \"jogging\", \"tipe\", \"living\", \"type\", \"odoo\", \"trans\", \"tower\", \"mall\", \"track\", \"centre\", \"cema\", \"schindler\", \"zen\", \"sky\", \"chicago\", \"kawasan\", \"fasilitas\", \"menit\", \"world\", \"unjung\", \"via\", \"keluarga\", \"lengkap\", \"apartemen\", \"whatsapp\", \"mal\", \"studio\", \"lokasi\", \"sedia\", \"konsep\", \"informasi\", \"investasi\", \"hubung\", \"transportasi\", \"sehat\", \"dukung\", \"israel\", \"sepakat\", \"iran\", \"trump\", \"uea\", \"eropa\", \"bahrain\", \"palestina\", \"netanyahu\", \"as\", \"utang\", \"reuters\", \"visa\", \"teluk\", \"donald\", \"damai\", \"putih\", \"arab\", \"cabut\", \"senjata\", \"cnn\", \"rekor\", \"pesawat\", \"eri\", \"menandatangani\", \"bin\", \"abraham\", \"shinkansen\", \"merkel\", \"ap\", \"china\", \"terbang\", \"biden\", \"airbnb\", \"maskapai\", \"kereta\", \"amerika\", \"swedia\", \"italia\", \"labuh\", \"gas\", \"us\", \"serikat\", \"negara\", \"janji\", \"pimpin\", \"ekspor\", \"presiden\", \"tumpang\", \"corona\", \"warga\", \"jalan\", \"virus\", \"rencana\", \"orang\", \"turun\", \"strategi\", \"covid\", \"usaha\", \"tingkat\", \"perintah\", \"shopeepay\", \"taspen\", \"bukopin\", \"ovo\", \"bus\", \"kookmin\", \"kompag\", \"teguk\", \"ewallet\", \"banyuwangi\", \"steak\", \"po\", \"mro\", \"ifg\", \"qu\", \"barel\", \"juara\", \"idaaa\", \"kepiting\", \"fajriyah\", \"pertamina\", \"darmawan\", \"traveloka\", \"scania\", \"lil\", \"film\", \"undi\", \"jaygan\", \"warner\", \"kb\", \"pln\", \"asuransi\", \"who\", \"gofood\", \"bioskop\", \"migas\", \"mitra\", \"peringkat\", \"bayar\", \"energi\", \"latih\", \"layan\", \"covid\", \"logistik\", \"usaha\", \"hasil\", \"sehat\", \"milik\", \"laku\", \"harga\", \"inovasi\", \"salah\", \"terap\", \"baik\", \"tingkat\", \"bangun\", \"umkm\", \"dukung\", \"strategi\", \"kerja\", \"jalan\", \"virus\", \"kembang\", \"masyarakat\", \"industri\", \"pasar\", \"butuh\"], \"Freq\": [436.0, 350.0, 184.0, 163.0, 167.0, 272.0, 149.0, 107.0, 281.0, 89.0, 232.0, 102.0, 281.0, 615.0, 86.0, 71.0, 262.0, 70.0, 96.0, 69.0, 68.0, 68.0, 361.0, 66.0, 68.0, 82.0, 119.0, 56.0, 86.0, 62.0, 85.9760971069336, 80.3832015991211, 51.41447448730469, 43.79653549194336, 28.1547794342041, 24.43048858642578, 24.40968894958496, 21.62607192993164, 16.037368774414062, 14.172332763671875, 14.17184066772461, 13.239799499511719, 13.239797592163086, 13.239635467529297, 12.307244300842285, 11.374667167663574, 11.374670028686523, 11.374662399291992, 11.374642372131348, 11.374127388000488, 11.355181694030762, 111.63980102539062, 11.310818672180176, 80.03007507324219, 10.442102432250977, 10.440889358520508, 9.50953197479248, 9.505463600158691, 13.833839416503906, 22.43276596069336, 88.07217407226562, 20.698354721069336, 44.35042953491211, 71.94943237304688, 18.83544158935547, 197.5712432861328, 54.918331146240234, 29.873180389404297, 53.986961364746094, 18.692481994628906, 273.2963562011719, 17.818593978881836, 65.9896011352539, 31.606271743774414, 186.308349609375, 127.3223876953125, 30.190235137939453, 102.39273071289062, 34.7586669921875, 26.207298278808594, 104.13787078857422, 68.70661926269531, 139.33872985839844, 97.61894226074219, 124.50833129882812, 173.25413513183594, 85.27090454101562, 161.55575561523438, 173.14830017089844, 101.30413818359375, 82.57144165039062, 60.01797866821289, 191.3057861328125, 97.73046112060547, 96.06554412841797, 101.50353240966797, 99.08317565917969, 89.21363067626953, 78.1668930053711, 73.30379486083984, 78.28785705566406, 74.78643798828125, 75.20664978027344, 46.86107635498047, 38.64564514160156, 23.969791412353516, 23.07649040222168, 23.07619285583496, 19.4134578704834, 18.497920989990234, 18.49775505065918, 16.646820068359375, 15.75024127960205, 15.750216484069824, 15.746438026428223, 14.832173347473145, 67.82963562011719, 13.918721199035645, 13.002886772155762, 13.000076293945312, 12.999251365661621, 12.087048530578613, 12.087048530578613, 12.087038040161133, 12.083296775817871, 12.081904411315918, 11.171042442321777, 11.165863990783691, 11.162784576416016, 11.11750316619873, 10.255370140075684, 10.253647804260254, 10.207274436950684, 19.414121627807617, 11.890159606933594, 63.283111572265625, 214.8734588623047, 203.84422302246094, 15.783905982971191, 87.49214172363281, 18.738489151000977, 101.95516204833984, 20.842498779296875, 105.51632690429688, 21.44472312927246, 15.731254577636719, 62.75884246826172, 47.74333190917969, 21.754291534423828, 79.73405456542969, 155.4925537109375, 33.48440170288086, 257.0000915527344, 102.78924560546875, 33.21986770629883, 28.03150177001953, 44.82426452636719, 83.40703582763672, 94.97180938720703, 64.54344940185547, 97.8845443725586, 68.49138641357422, 51.516334533691406, 76.13375854492188, 46.292232513427734, 49.8942985534668, 75.14906311035156, 80.34163665771484, 75.53401184082031, 67.04618835449219, 84.6374282836914, 64.90799713134766, 64.40472412109375, 52.40102767944336, 62.85659408569336, 60.868751525878906, 53.77690505981445, 54.445030212402344, 54.077980041503906, 435.58660888671875, 349.93231201171875, 107.24486541748047, 182.91903686523438, 67.98657989501953, 67.98658752441406, 68.85807800292969, 56.38747787475586, 52.80624008178711, 50.1419563293457, 43.00407791137695, 43.00407409667969, 36.7573356628418, 35.8662109375, 35.8662109375, 35.86620330810547, 32.29728317260742, 32.29726791381836, 30.51004981994629, 29.620527267456055, 28.728355407714844, 28.718505859375, 65.28926849365234, 100.11177062988281, 60.84914016723633, 25.159408569335938, 24.262971878051758, 22.482126235961914, 21.59048843383789, 21.590492248535156, 46.57403564453125, 43.00697708129883, 131.37986755371094, 145.3563995361328, 45.669456481933594, 54.60404586791992, 71.72122192382812, 50.146690368652344, 63.17763900756836, 71.66093444824219, 39.343727111816406, 50.143943786621094, 47.79053497314453, 40.14865493774414, 46.675498962402344, 70.93620300292969, 52.904964447021484, 67.37177276611328, 70.501220703125, 60.238677978515625, 50.64735412597656, 54.68024826049805, 48.57062911987305, 88.96753692626953, 70.49903106689453, 55.55108642578125, 69.32892608642578, 47.64808654785156, 39.64297866821289, 29.186147689819336, 23.911304473876953, 23.032161712646484, 157.8893280029297, 18.629302978515625, 17.728681564331055, 16.878150939941406, 15.998978614807129, 15.986405372619629, 35.32658386230469, 15.08051872253418, 33.54106140136719, 14.207267761230469, 13.360177040100098, 13.330912590026855, 12.474063873291016, 26.535863876342773, 11.599602699279785, 11.548556327819824, 10.724183082580566, 10.724183082580566, 10.724178314208984, 10.722915649414062, 10.674293518066406, 77.4593734741211, 61.71078872680664, 17.908023834228516, 17.756319046020508, 30.57229232788086, 77.37490844726562, 45.90129470825195, 20.85750389099121, 16.71973991394043, 16.765295028686523, 29.734018325805664, 41.93317413330078, 26.07955551147461, 85.88849639892578, 35.60499572753906, 34.456260681152344, 31.63368034362793, 33.888946533203125, 32.23476791381836, 55.03053283691406, 26.473236083984375, 63.24575424194336, 45.255775451660156, 38.677886962890625, 58.385459899902344, 48.58681869506836, 47.520694732666016, 48.798309326171875, 51.41057586669922, 45.18400573730469, 34.1605224609375, 48.32700729370117, 38.00796127319336, 36.28744125366211, 37.922393798828125, 19.08919906616211, 19.0888614654541, 16.509544372558594, 14.789687156677246, 13.069786071777344, 13.069265365600586, 17.094430923461914, 10.489323616027832, 10.489093780517578, 9.630059242248535, 9.630056381225586, 9.620355606079102, 8.734820365905762, 7.910179615020752, 7.909330368041992, 7.905647277832031, 35.349891662597656, 7.050236225128174, 7.050230979919434, 7.050098419189453, 7.049882888793945, 7.049562931060791, 7.049348831176758, 7.830700874328613, 7.048403263092041, 14.78967571258545, 13.01012897491455, 29.052501678466797, 25.006032943725586, 18.229869842529297, 16.293624877929688, 11.298340797424316, 50.20475387573242, 18.23103904724121, 29.513280868530273, 22.024658203125, 28.55046844482422, 59.48006820678711, 86.28180694580078, 22.83238410949707, 106.34001922607422, 38.661685943603516, 46.736568450927734, 50.07200241088867, 44.227996826171875, 34.51201248168945, 29.777624130249023, 38.87145233154297, 27.65995216369629, 28.449180603027344, 44.47512435913086, 34.478271484375, 39.30059051513672, 33.7938117980957, 39.14929962158203, 37.59914016723633, 34.373512268066406, 29.515382766723633, 32.85821533203125, 32.25423812866211, 30.440439224243164, 30.486299514770508, 29.649131774902344], \"Total\": [436.0, 350.0, 184.0, 163.0, 167.0, 272.0, 149.0, 107.0, 281.0, 89.0, 232.0, 102.0, 281.0, 615.0, 86.0, 71.0, 262.0, 70.0, 96.0, 69.0, 68.0, 68.0, 361.0, 66.0, 68.0, 82.0, 119.0, 56.0, 86.0, 62.0, 86.68869018554688, 81.09357452392578, 52.18107223510742, 44.705596923828125, 28.86876678466797, 25.140018463134766, 25.13823127746582, 22.340707778930664, 16.746936798095703, 14.881813049316406, 14.881645202636719, 13.94924545288086, 13.94924545288086, 13.949200630187988, 13.016683578491211, 12.084112167358398, 12.084115028381348, 12.084114074707031, 12.084111213684082, 12.083940505981445, 12.079596519470215, 119.00418090820312, 12.077420234680176, 85.46683502197266, 11.151543617248535, 11.151172637939453, 10.218976020812988, 10.217813491821289, 14.872761726379395, 24.142284393310547, 95.51060485839844, 22.286605834960938, 48.25859069824219, 80.61026763916016, 20.40237808227539, 232.2241668701172, 61.91063690185547, 33.35572814941406, 62.2672004699707, 20.45548439025879, 361.9267272949219, 19.49916648864746, 80.34956359863281, 36.158809661865234, 262.6977844238281, 174.75900268554688, 35.111114501953125, 143.68724060058594, 41.58720779418945, 30.43586540222168, 158.83079528808594, 96.29109954833984, 227.03428649902344, 147.73947143554688, 201.67654418945312, 303.4764099121094, 133.65740966796875, 336.0516052246094, 382.49578857421875, 213.7500762939453, 158.0678253173828, 97.63227844238281, 615.9555053710938, 219.13592529296875, 222.94912719726562, 278.18939208984375, 281.212646484375, 235.51571655273438, 164.3951873779297, 143.30072021484375, 208.5712127685547, 178.95498657226562, 246.9627685546875, 47.59904098510742, 39.35891342163086, 24.704200744628906, 23.789697647094727, 23.789663314819336, 20.126466751098633, 19.210712432861328, 19.210674285888672, 17.375167846679688, 16.46315574645996, 16.463150024414062, 16.46194076538086, 15.546723365783691, 71.23636627197266, 14.631510734558105, 13.715668678283691, 13.714973449707031, 13.714550971984863, 12.799832344055176, 12.79983139038086, 12.79982852935791, 12.798677444458008, 12.799392700195312, 11.883952140808105, 11.883055686950684, 11.883344650268555, 11.875972747802734, 10.968152046203613, 10.967626571655273, 10.963174819946289, 21.00397300720215, 12.801438331604004, 75.66529846191406, 281.7859802246094, 272.50665283203125, 17.342437744140625, 114.40194702148438, 20.99710464477539, 140.13565063476562, 23.65097999572754, 152.91993713378906, 24.697471618652344, 17.31963539123535, 85.3725357055664, 62.275856018066406, 25.427486419677734, 122.77932739257812, 281.212646484375, 44.78300476074219, 615.9555053710938, 209.72657775878906, 46.4230842590332, 37.121368408203125, 73.80317687988281, 181.69808959960938, 246.9627685546875, 136.6944580078125, 263.6057434082031, 156.75848388671875, 99.10140991210938, 188.3673553466797, 86.40339660644531, 106.14752197265625, 235.51571655273438, 278.18939208984375, 249.57669067382812, 196.96987915039062, 336.0516052246094, 219.13592529296875, 222.94912719726562, 122.62104797363281, 303.4764099121094, 382.49578857421875, 159.55262756347656, 227.03428649902344, 238.62802124023438, 436.3047790527344, 350.65032958984375, 107.96253204345703, 184.7188720703125, 68.70419311523438, 68.70420837402344, 69.5948257446289, 57.10513687133789, 53.534637451171875, 50.859527587890625, 43.721649169921875, 43.72164535522461, 37.475704193115234, 36.58377456665039, 36.583778381347656, 36.58377456665039, 33.014835357666016, 33.01483154296875, 31.229642868041992, 30.33811378479004, 29.445898056030273, 29.443376541137695, 66.9389419555664, 102.65391540527344, 62.42451858520508, 25.876955032348633, 24.983673095703125, 23.20009422302246, 22.308013916015625, 22.30801773071289, 48.14897537231445, 45.45748519897461, 149.38800048828125, 167.97650146484375, 49.14380645751953, 60.57804489135742, 82.32240295410156, 56.15031051635742, 77.12036895751953, 93.64389038085938, 42.84169006347656, 59.930606842041016, 58.873653411865234, 44.546104431152344, 58.99576950073242, 131.02197265625, 76.46197509765625, 127.44649505615234, 142.39584350585938, 143.30381774902344, 87.71246337890625, 200.17010498046875, 168.54368591308594, 89.68785095214844, 71.22499084472656, 56.28056716918945, 70.36402130126953, 48.36825942993164, 40.457828521728516, 29.906291961669922, 24.631446838378906, 23.752304077148438, 163.82891845703125, 19.354717254638672, 18.4754581451416, 17.598308563232422, 16.71915054321289, 16.71926498413086, 36.973445892333984, 15.83889389038086, 35.231910705566406, 14.96167278289795, 14.081413269042969, 14.081573486328125, 13.201733589172363, 28.180946350097656, 12.322782516479492, 12.323753356933594, 11.44430923461914, 11.444310188293457, 11.444307327270508, 11.444053649902344, 11.442679405212402, 86.34748077392578, 68.83697509765625, 19.399702072143555, 19.335466384887695, 34.40473175048828, 96.93611145019531, 55.82343292236328, 23.70355796813965, 18.452878952026367, 18.534404754638672, 37.942256927490234, 60.48019027709961, 34.73845672607422, 208.5712127685547, 58.898094177246094, 57.22489547729492, 50.17024230957031, 56.49098587036133, 53.074928283691406, 152.38388061523438, 39.285274505615234, 238.62802124023438, 124.95062255859375, 90.591796875, 249.57669067382812, 178.95498657226562, 278.18939208984375, 382.49578857421875, 615.9555053710938, 336.0516052246094, 201.67654418945312, 49.051151275634766, 38.73194885253906, 37.01188659667969, 38.734214782714844, 19.813316345214844, 19.813194274902344, 17.23352813720703, 15.513648986816406, 13.79377555847168, 13.79361629486084, 18.101058959960938, 11.2138032913208, 11.213700294494629, 10.354021072387695, 10.354021072387695, 10.352357864379883, 9.492152214050293, 8.634142875671387, 8.633926391601562, 8.633419036865234, 38.93935012817383, 7.774200916290283, 7.774196147918701, 7.774178504943848, 7.774112701416016, 7.774059295654297, 7.77394962310791, 8.636279106140137, 7.773830413818359, 16.42605209350586, 14.709601402282715, 34.81980514526367, 30.3521728515625, 21.698720932006836, 19.991147994995117, 13.884700775146484, 105.0517578125, 28.0786075592041, 56.65034484863281, 38.51594924926758, 59.601226806640625, 188.3673553466797, 382.49578857421875, 43.533931732177734, 615.9555053710938, 139.25433349609375, 200.17010498046875, 263.6057434082031, 219.13592529296875, 137.8861541748047, 99.10140991210938, 196.96987915039062, 83.51428985595703, 94.17755889892578, 336.0516052246094, 162.71517944335938, 262.6977844238281, 168.54368591308594, 278.18939208984375, 303.4764099121094, 238.62802124023438, 124.95062255859375, 246.9627685546875, 235.51571655273438, 213.7500762939453, 222.94912719726562, 181.69808959960938], \"Category\": [\"Default\", \"Default\", \"Default\", \"Default\", \"Default\", \"Default\", \"Default\", \"Default\", \"Default\", \"Default\", \"Default\", \"Default\", \"Default\", \"Default\", \"Default\", \"Default\", \"Default\", \"Default\", \"Default\", \"Default\", \"Default\", \"Default\", \"Default\", \"Default\", \"Default\", \"Default\", \"Default\", \"Default\", \"Default\", \"Default\", \"Topic1\", \"Topic1\", \"Topic1\", \"Topic1\", \"Topic1\", \"Topic1\", \"Topic1\", \"Topic1\", \"Topic1\", \"Topic1\", \"Topic1\", \"Topic1\", \"Topic1\", \"Topic1\", \"Topic1\", \"Topic1\", \"Topic1\", \"Topic1\", \"Topic1\", \"Topic1\", \"Topic1\", \"Topic1\", \"Topic1\", \"Topic1\", \"Topic1\", \"Topic1\", \"Topic1\", \"Topic1\", \"Topic1\", \"Topic1\", \"Topic1\", \"Topic1\", \"Topic1\", \"Topic1\", \"Topic1\", \"Topic1\", \"Topic1\", \"Topic1\", \"Topic1\", \"Topic1\", \"Topic1\", \"Topic1\", \"Topic1\", \"Topic1\", \"Topic1\", \"Topic1\", \"Topic1\", \"Topic1\", \"Topic1\", \"Topic1\", \"Topic1\", \"Topic1\", \"Topic1\", \"Topic1\", \"Topic1\", \"Topic1\", \"Topic1\", \"Topic1\", \"Topic1\", \"Topic1\", \"Topic1\", \"Topic1\", \"Topic1\", \"Topic1\", \"Topic1\", \"Topic1\", \"Topic1\", \"Topic1\", \"Topic1\", \"Topic1\", \"Topic1\", \"Topic1\", \"Topic1\", \"Topic2\", \"Topic2\", \"Topic2\", \"Topic2\", \"Topic2\", \"Topic2\", \"Topic2\", \"Topic2\", \"Topic2\", \"Topic2\", \"Topic2\", \"Topic2\", \"Topic2\", \"Topic2\", \"Topic2\", \"Topic2\", \"Topic2\", \"Topic2\", \"Topic2\", \"Topic2\", \"Topic2\", \"Topic2\", \"Topic2\", \"Topic2\", \"Topic2\", \"Topic2\", \"Topic2\", \"Topic2\", \"Topic2\", \"Topic2\", \"Topic2\", \"Topic2\", \"Topic2\", \"Topic2\", \"Topic2\", \"Topic2\", \"Topic2\", \"Topic2\", \"Topic2\", \"Topic2\", \"Topic2\", \"Topic2\", \"Topic2\", \"Topic2\", \"Topic2\", \"Topic2\", \"Topic2\", \"Topic2\", \"Topic2\", \"Topic2\", \"Topic2\", \"Topic2\", \"Topic2\", \"Topic2\", \"Topic2\", \"Topic2\", \"Topic2\", \"Topic2\", \"Topic2\", \"Topic2\", \"Topic2\", \"Topic2\", \"Topic2\", \"Topic2\", \"Topic2\", \"Topic2\", \"Topic2\", \"Topic2\", \"Topic2\", \"Topic2\", \"Topic2\", \"Topic2\", \"Topic2\", \"Topic2\", \"Topic2\", \"Topic2\", \"Topic3\", \"Topic3\", \"Topic3\", \"Topic3\", \"Topic3\", \"Topic3\", \"Topic3\", \"Topic3\", \"Topic3\", \"Topic3\", \"Topic3\", \"Topic3\", \"Topic3\", \"Topic3\", \"Topic3\", \"Topic3\", \"Topic3\", \"Topic3\", \"Topic3\", \"Topic3\", \"Topic3\", \"Topic3\", \"Topic3\", \"Topic3\", \"Topic3\", \"Topic3\", \"Topic3\", \"Topic3\", \"Topic3\", \"Topic3\", \"Topic3\", \"Topic3\", \"Topic3\", \"Topic3\", \"Topic3\", \"Topic3\", \"Topic3\", \"Topic3\", \"Topic3\", \"Topic3\", \"Topic3\", \"Topic3\", \"Topic3\", \"Topic3\", \"Topic3\", \"Topic3\", \"Topic3\", \"Topic3\", \"Topic3\", \"Topic3\", \"Topic3\", \"Topic3\", \"Topic3\", \"Topic4\", \"Topic4\", \"Topic4\", \"Topic4\", \"Topic4\", \"Topic4\", \"Topic4\", \"Topic4\", \"Topic4\", \"Topic4\", \"Topic4\", \"Topic4\", \"Topic4\", \"Topic4\", \"Topic4\", \"Topic4\", \"Topic4\", \"Topic4\", \"Topic4\", \"Topic4\", \"Topic4\", \"Topic4\", \"Topic4\", \"Topic4\", \"Topic4\", \"Topic4\", \"Topic4\", \"Topic4\", \"Topic4\", \"Topic4\", \"Topic4\", \"Topic4\", \"Topic4\", \"Topic4\", \"Topic4\", \"Topic4\", \"Topic4\", \"Topic4\", \"Topic4\", \"Topic4\", \"Topic4\", \"Topic4\", \"Topic4\", \"Topic4\", \"Topic4\", \"Topic4\", \"Topic4\", \"Topic4\", \"Topic4\", \"Topic4\", \"Topic4\", \"Topic4\", \"Topic4\", \"Topic4\", \"Topic4\", \"Topic4\", \"Topic4\", \"Topic4\", \"Topic4\", \"Topic4\", \"Topic4\", \"Topic5\", \"Topic5\", \"Topic5\", \"Topic5\", \"Topic5\", \"Topic5\", \"Topic5\", \"Topic5\", \"Topic5\", \"Topic5\", \"Topic5\", \"Topic5\", \"Topic5\", \"Topic5\", \"Topic5\", \"Topic5\", \"Topic5\", \"Topic5\", \"Topic5\", \"Topic5\", \"Topic5\", \"Topic5\", \"Topic5\", \"Topic5\", \"Topic5\", \"Topic5\", \"Topic5\", \"Topic5\", \"Topic5\", \"Topic5\", \"Topic5\", \"Topic5\", \"Topic5\", \"Topic5\", \"Topic5\", \"Topic5\", \"Topic5\", \"Topic5\", \"Topic5\", \"Topic5\", \"Topic5\", \"Topic5\", \"Topic5\", \"Topic5\", \"Topic5\", \"Topic5\", \"Topic5\", \"Topic5\", \"Topic5\", \"Topic5\", \"Topic5\", \"Topic5\", \"Topic5\", \"Topic5\", \"Topic5\", \"Topic5\", \"Topic5\", \"Topic5\", \"Topic5\", \"Topic5\", \"Topic5\", \"Topic5\", \"Topic5\", \"Topic5\", \"Topic5\", \"Topic5\", \"Topic5\"], \"logprob\": [30.0, 29.0, 28.0, 27.0, 26.0, 25.0, 24.0, 23.0, 22.0, 21.0, 20.0, 19.0, 18.0, 17.0, 16.0, 15.0, 14.0, 13.0, 12.0, 11.0, 10.0, 9.0, 8.0, 7.0, 6.0, 5.0, 4.0, 3.0, 2.0, 1.0, -5.502600193023682, -5.569900035858154, -6.0167999267578125, -6.17710018157959, -6.61899995803833, -6.760900020599365, -6.76170015335083, -6.882800102233887, -7.18179988861084, -7.3053998947143555, -7.3053998947143555, -7.373499870300293, -7.373499870300293, -7.373499870300293, -7.446499824523926, -7.525300025939941, -7.525300025939941, -7.525300025939941, -7.525300025939941, -7.525400161743164, -7.5269999504089355, -5.241399765014648, -7.530900001525879, -5.5742998123168945, -7.610899925231934, -7.611000061035156, -7.704400062561035, -7.704800128936768, -7.329599857330322, -6.846199989318848, -5.478499889373779, -6.926599979400635, -6.164599895477295, -5.680699825286865, -7.020999908447266, -4.670599937438965, -5.950900077819824, -6.559700012207031, -5.9679999351501465, -7.028600215911865, -4.346099853515625, -7.076499938964844, -5.767199993133545, -6.503300189971924, -4.729300022125244, -5.110000133514404, -6.549200057983398, -5.327899932861328, -6.408299922943115, -6.690700054168701, -5.310999870300293, -5.726900100708008, -5.019800186157227, -5.3755998611450195, -5.132299900054932, -4.8018999099731445, -5.510900020599365, -4.8719000816345215, -4.802599906921387, -5.338600158691406, -5.543000221252441, -5.862100124359131, -4.7027997970581055, -5.374499797821045, -5.39169979095459, -5.336599826812744, -5.3607001304626465, -5.465700149536133, -5.597899913787842, -5.662099838256836, -5.59630012512207, -5.642099857330322, -5.636499881744385, -5.8572998046875, -6.050099849700928, -6.527699947357178, -6.565700054168701, -6.565700054168701, -6.738500118255615, -6.786900043487549, -6.786900043487549, -6.892300128936768, -6.947700023651123, -6.947700023651123, -6.94789981842041, -7.007699966430664, -5.487500190734863, -7.071300029754639, -7.1392998695373535, -7.139599800109863, -7.139599800109863, -7.212399959564209, -7.212399959564209, -7.212399959564209, -7.212699890136719, -7.212800025939941, -7.291200160980225, -7.291600227355957, -7.291900157928467, -7.296000003814697, -7.376699924468994, -7.3769001960754395, -7.381400108337402, -6.738500118255615, -7.228799819946289, -5.5569000244140625, -4.334499835968018, -4.387199878692627, -6.945499897003174, -5.232999801635742, -6.773900032043457, -5.079999923706055, -6.667500019073486, -5.045599937438965, -6.638999938964844, -6.94890022277832, -5.565199851989746, -5.838699817657471, -6.62470006942749, -5.325799942016602, -4.657899856567383, -6.193399906158447, -4.155399799346924, -5.071800231933594, -6.201399803161621, -6.371200084686279, -5.901800155639648, -5.280799865722656, -5.150899887084961, -5.537199974060059, -5.120699882507324, -5.477799892425537, -5.762599945068359, -5.372000217437744, -5.869500160217285, -5.794600009918213, -5.385000228881836, -5.31820011138916, -5.379899978637695, -5.499100208282471, -5.26609992980957, -5.531499862670898, -5.539299964904785, -5.74560022354126, -5.563700199127197, -5.595799922943115, -5.719699859619141, -5.707300186157227, -5.714099884033203, -3.380199909210205, -3.599100112915039, -4.781700134277344, -4.247799873352051, -5.237500190734863, -5.237500190734863, -5.224800109863281, -5.424600124359131, -5.490200042724609, -5.541999816894531, -5.695499897003174, -5.6956000328063965, -5.852499961853027, -5.876999855041504, -5.876999855041504, -5.876999855041504, -5.981900215148926, -5.981900215148926, -6.03879976272583, -6.068399906158447, -6.098999977111816, -6.099299907684326, -5.2779998779296875, -4.850599765777588, -5.348400115966797, -6.231599807739258, -6.267899990081787, -6.344099998474121, -6.3846001625061035, -6.3846001625061035, -5.615799903869629, -5.695499897003174, -4.578800201416016, -4.477700233459473, -5.63539981842041, -5.456699848175049, -5.184100151062012, -5.541900157928467, -5.3109002113342285, -5.184899806976318, -5.7845001220703125, -5.541900157928467, -5.590000152587891, -5.7642998695373535, -5.61359977722168, -5.195099830627441, -5.48829984664917, -5.246600151062012, -5.201200008392334, -5.358500003814697, -5.5320000648498535, -5.4552998542785645, -5.573800086975098, -4.806000232696533, -5.038700103759766, -5.2769999504089355, -5.0553998947143555, -5.430500030517578, -5.6143999099731445, -5.920599937438965, -6.119999885559082, -6.157400131225586, -4.232399940490723, -6.36959981918335, -6.419099807739258, -6.468299865722656, -6.5218000411987305, -6.522600173950195, -5.729700088500977, -6.580900192260742, -5.781499862670898, -6.640600204467773, -6.702000141143799, -6.70419979095459, -6.770699977874756, -6.0157999992370605, -6.843299865722656, -6.847700119018555, -6.921800136566162, -6.921800136566162, -6.921800136566162, -6.921899795532227, -6.926499843597412, -4.9446001052856445, -5.171800136566162, -6.40910005569458, -6.417600154876709, -5.874199867248535, -4.9456000328063965, -5.467800140380859, -6.2565999031066895, -6.477700233459473, -6.474999904632568, -5.9019999504089355, -5.558199882507324, -6.033199787139893, -4.841300010681152, -5.721799850463867, -5.7546000480651855, -5.840099811553955, -5.771200180053711, -5.821300029754639, -5.286399841308594, -6.018199920654297, -5.147299766540527, -5.48199987411499, -5.638999938964844, -5.227200031280518, -5.410999774932861, -5.43310022354126, -5.406599998474121, -5.354499816894531, -5.48360013961792, -5.763199806213379, -5.317699909210205, -5.5578999519348145, -5.6041998863220215, -5.560100078582764, -6.246500015258789, -6.246500015258789, -6.39169979095459, -6.501699924468994, -6.62529993057251, -6.625400066375732, -6.356900215148926, -6.845300197601318, -6.845300197601318, -6.930799961090088, -6.930799961090088, -6.93179988861084, -7.028299808502197, -7.127500057220459, -7.127600193023682, -7.1280999183654785, -5.63040018081665, -7.242599964141846, -7.242599964141846, -7.242599964141846, -7.242599964141846, -7.242700099945068, -7.242700099945068, -7.137599945068359, -7.242800235748291, -6.501699924468994, -6.629899978637695, -5.826499938964844, -5.976500034332275, -6.292600154876709, -6.404900074005127, -6.770999908447266, -5.2795000076293945, -6.292500019073486, -5.810800075531006, -6.103499889373779, -5.843999862670898, -5.110000133514404, -4.73799991607666, -6.067500114440918, -4.5289998054504395, -5.540800094604492, -5.351099967956543, -5.282199859619141, -5.406300067901611, -5.654300212860107, -5.8018999099731445, -5.535399913787842, -5.875699996948242, -5.847499847412109, -5.400700092315674, -5.655300140380859, -5.524400234222412, -5.6753997802734375, -5.528299808502197, -5.568699836730957, -5.658400058746338, -5.810699939727783, -5.703400135040283, -5.7220001220703125, -5.779900074005127, -5.77839994430542, -5.80620002746582], \"loglift\": [30.0, 29.0, 28.0, 27.0, 26.0, 25.0, 24.0, 23.0, 22.0, 21.0, 20.0, 19.0, 18.0, 17.0, 16.0, 15.0, 14.0, 13.0, 12.0, 11.0, 10.0, 9.0, 8.0, 7.0, 6.0, 5.0, 4.0, 3.0, 2.0, 1.0, 1.2056000232696533, 1.2051000595092773, 1.1991000175476074, 1.1933000087738037, 1.1887999773025513, 1.1851999759674072, 1.184499979019165, 1.181399941444397, 1.1706000566482544, 1.1649999618530273, 1.1649999618530273, 1.1617000102996826, 1.1617000102996826, 1.1617000102996826, 1.1577999591827393, 1.15339994430542, 1.15339994430542, 1.15339994430542, 1.15339994430542, 1.1533000469207764, 1.1519999504089355, 1.149999976158142, 1.148300051689148, 1.1481000185012817, 1.1481000185012817, 1.1481000185012817, 1.1418999433517456, 1.1416000127792358, 1.1414999961853027, 1.1404000520706177, 1.1327999830245972, 1.1398999691009521, 1.1294000148773193, 1.1002000570297241, 1.1339999437332153, 1.052299976348877, 1.093999981880188, 1.103600025177002, 1.0712000131607056, 1.1237000226974487, 0.9330000281333923, 1.1237000226974487, 1.0169999599456787, 1.079300045967102, 0.8702999949455261, 0.8971999883651733, 1.0628999471664429, 0.8751000165939331, 1.034500002861023, 1.0642999410629272, 0.791700005531311, 0.8762999773025513, 0.7257000207901001, 0.7994999885559082, 0.7315999865531921, 0.6532999873161316, 0.7644000053405762, 0.4814999997615814, 0.4212999939918518, 0.46720001101493835, 0.5644999742507935, 0.7272999882698059, 0.044599998742341995, 0.40639999508857727, 0.3720000088214874, 0.20569999516010284, 0.17069999873638153, 0.24310000240802765, 0.47040000557899475, 0.5435000061988831, 0.23399999737739563, 0.34139999747276306, 0.024900000542402267, 1.4503999948501587, 1.4478000402450562, 1.4358999729156494, 1.4356000423431396, 1.4356000423431396, 1.4299999475479126, 1.4283000230789185, 1.4282000064849854, 1.423200011253357, 1.4218000173568726, 1.4218000173568726, 1.4215999841690063, 1.4190000295639038, 1.417099952697754, 1.416100025177002, 1.4127000570297241, 1.412500023841858, 1.412500023841858, 1.4088000059127808, 1.4088000059127808, 1.4088000059127808, 1.4084999561309814, 1.408400058746338, 1.4041999578475952, 1.4038000106811523, 1.403499960899353, 1.4000999927520752, 1.398900032043457, 1.398800015449524, 1.3946000337600708, 1.3874000310897827, 1.392199993133545, 1.2874000072479248, 1.1950000524520874, 1.1757999658584595, 1.371899962425232, 1.1979000568389893, 1.3523000478744507, 1.1480000019073486, 1.3396999835968018, 1.0950000286102295, 1.3248000144958496, 1.3698999881744385, 1.1583000421524048, 1.2002999782562256, 1.309999942779541, 1.0343999862670898, 0.8736000061035156, 1.1753000020980835, 0.5920000076293945, 0.7529000043869019, 1.1313999891281128, 1.1851999759674072, 0.9674000144004822, 0.6875, 0.5103999972343445, 0.7156999707221985, 0.47540000081062317, 0.6381000280380249, 0.8118000030517578, 0.5601999759674072, 0.8420000076293945, 0.7110999822616577, 0.3237999975681305, 0.2240999937057495, 0.27090001106262207, 0.38839998841285706, 0.08720000088214874, 0.2493000030517578, 0.22429999709129333, 0.6158999800682068, -0.10840000212192535, -0.3718999922275543, 0.3785000145435333, 0.03819999843835831, -0.018400000408291817, 1.7121000289916992, 1.7116999626159668, 1.7071000337600708, 1.7038999795913696, 1.7031999826431274, 1.7031999826431274, 1.7030999660491943, 1.7010999917984009, 1.7000000476837158, 1.6994999647140503, 1.6971999406814575, 1.6971999406814575, 1.6943999528884888, 1.6938999891281128, 1.6938999891281128, 1.6938999891281128, 1.6917999982833862, 1.6917999982833862, 1.6904000043869019, 1.6898000240325928, 1.6891000270843506, 1.6887999773025513, 1.6887999773025513, 1.6886999607086182, 1.6881999969482422, 1.6856000423431396, 1.684499979019165, 1.6822999715805054, 1.680999994277954, 1.680999994277954, 1.6805000305175781, 1.6583000421524048, 1.5852999687194824, 1.569100022315979, 1.6404000520706177, 1.6098999977111816, 1.5758999586105347, 1.6007000207901, 1.514299988746643, 1.4462000131607056, 1.628600001335144, 1.5354000329971313, 1.5052000284194946, 1.6097999811172485, 1.4795000553131104, 1.100100040435791, 1.3453999757766724, 1.076300024986267, 1.0108000040054321, 0.847100019454956, 1.1646000146865845, 0.41609999537467957, 0.46959999203681946, 1.8681999444961548, 1.8660000562667847, 1.8631999492645264, 1.8614000082015991, 1.861299991607666, 1.8559000492095947, 1.8518999814987183, 1.84660005569458, 1.8454999923706055, 1.8393000364303589, 1.8380999565124512, 1.8350000381469727, 1.8344999551773071, 1.832200050354004, 1.8314000368118286, 1.8307000398635864, 1.8272000551223755, 1.8271000385284424, 1.8244999647140503, 1.823699951171875, 1.8214999437332153, 1.819599986076355, 1.816100001335144, 1.8157999515533447, 1.8113000392913818, 1.8113000392913818, 1.8113000392913818, 1.8113000392913818, 1.8112000226974487, 1.8068000078201294, 1.7676000595092773, 1.7669999599456787, 1.7963000535964966, 1.791100025177002, 1.7582000494003296, 1.6509000062942505, 1.6806000471115112, 1.7483999729156494, 1.7776000499725342, 1.7760000228881836, 1.6325000524520874, 1.5099999904632568, 1.5895999670028687, 0.9890000224113464, 1.3729000091552734, 1.36899995803833, 1.4150999784469604, 1.3653000593185425, 1.3775999546051025, 0.8578000068664551, 1.481600046157837, 0.5483999848365784, 0.8607000112533569, 1.0252000093460083, 0.4235999882221222, 0.5724999904632568, 0.10909999907016754, -0.18279999494552612, -0.6071000099182129, -0.13030000030994415, 0.1006999984383583, 1.9601000547409058, 1.9560999870300293, 1.955199956893921, 1.9536999464035034, 1.9377000331878662, 1.9377000331878662, 1.9320000410079956, 1.9270999431610107, 1.9210000038146973, 1.9210000038146973, 1.9177000522613525, 1.9081000089645386, 1.9081000089645386, 1.902400016784668, 1.902400016784668, 1.9016000032424927, 1.891800045967102, 1.8874000310897827, 1.8873000144958496, 1.8868999481201172, 1.8782000541687012, 1.8772000074386597, 1.8772000074386597, 1.8772000074386597, 1.8770999908447266, 1.8770999908447266, 1.8770999908447266, 1.8769999742507935, 1.8769999742507935, 1.8700000047683716, 1.8522000312805176, 1.7937999963760376, 1.7812000513076782, 1.8006999492645264, 1.770400047302246, 1.7688000202178955, 1.2366000413894653, 1.5429999828338623, 1.3229000568389893, 1.4160000085830688, 1.2388999462127686, 0.8222000002861023, 0.48579999804496765, 1.3295999765396118, 0.2184000015258789, 0.6934999823570251, 0.5202999711036682, 0.3138999938964844, 0.37459999322891235, 0.5898000001907349, 0.7724999785423279, 0.3521000146865845, 0.8698999881744385, 0.777899980545044, -0.04740000143647194, 0.42329999804496765, 0.07519999891519547, 0.36800000071525574, 0.014000000432133675, -0.11339999735355377, 0.037300001829862595, 0.5318999886512756, -0.042100001126527786, -0.013199999928474426, 0.02590000070631504, -0.014700000174343586, 0.16200000047683716]}, \"token.table\": {\"Topic\": [4, 1, 4, 4, 5, 1, 2, 1, 2, 1, 2, 4, 5, 4, 1, 3, 4, 1, 2, 5, 1, 4, 1, 1, 4, 1, 2, 1, 5, 2, 4, 1, 2, 3, 4, 5, 2, 1, 2, 3, 4, 5, 1, 4, 5, 1, 2, 3, 4, 5, 5, 5, 1, 2, 4, 5, 1, 3, 1, 2, 3, 4, 5, 1, 1, 4, 4, 3, 2, 5, 1, 1, 1, 2, 1, 5, 5, 5, 1, 2, 3, 4, 5, 4, 1, 2, 4, 5, 3, 3, 3, 4, 5, 1, 4, 5, 1, 4, 1, 2, 4, 5, 1, 2, 3, 4, 5, 2, 2, 4, 1, 2, 3, 4, 5, 5, 1, 2, 4, 5, 1, 2, 5, 1, 2, 4, 5, 3, 4, 1, 1, 2, 3, 4, 5, 1, 2, 3, 4, 5, 1, 2, 3, 4, 5, 1, 2, 4, 1, 2, 4, 5, 4, 4, 2, 5, 1, 2, 5, 1, 2, 3, 4, 5, 1, 5, 3, 1, 4, 5, 2, 2, 5, 2, 5, 2, 1, 2, 3, 4, 5, 1, 2, 4, 5, 1, 2, 3, 4, 5, 2, 3, 1, 5, 5, 1, 2, 3, 1, 2, 4, 5, 1, 2, 3, 5, 1, 2, 5, 1, 2, 3, 4, 5, 4, 4, 4, 5, 1, 3, 1, 2, 3, 4, 5, 1, 2, 3, 4, 5, 3, 1, 1, 2, 3, 4, 5, 5, 1, 2, 3, 4, 5, 1, 2, 3, 4, 5, 2, 5, 2, 1, 2, 3, 1, 2, 3, 4, 5, 1, 5, 1, 3, 4, 5, 1, 2, 4, 5, 3, 1, 4, 5, 1, 2, 3, 4, 1, 5, 1, 2, 3, 4, 5, 1, 2, 4, 5, 5, 1, 2, 3, 5, 1, 2, 5, 1, 2, 4, 5, 2, 1, 1, 4, 1, 4, 1, 2, 3, 4, 5, 1, 2, 4, 5, 1, 2, 3, 4, 5, 1, 2, 4, 5, 1, 2, 4, 5, 2, 1, 2, 3, 5, 3, 5, 3, 1, 4, 5, 1, 2, 3, 4, 5, 1, 2, 4, 5, 1, 2, 3, 5, 3, 5, 1, 2, 3, 4, 5, 3, 2, 1, 4, 5, 1, 2, 3, 4, 5, 4, 2, 3, 1, 2, 4, 5, 4, 1, 4, 5, 2, 3, 1, 2, 3, 4, 5, 1, 2, 3, 5, 5, 1, 2, 3, 4, 5, 4, 2, 1, 3, 1, 2, 5, 2, 5, 1, 2, 4, 5, 1, 5, 1, 2, 3, 4, 5, 5, 4, 1, 4, 1, 2, 3, 4, 5, 1, 1, 2, 4, 5, 1, 2, 4, 5, 1, 2, 5, 1, 2, 5, 1, 2, 4, 1, 1, 2, 4, 5, 1, 2, 5, 2, 5, 1, 5, 3, 1, 2, 4, 5, 1, 2, 4, 5, 1, 2, 3, 5, 1, 2, 4, 5, 2, 1, 2, 3, 4, 5, 4, 5, 2, 2, 2, 2, 4, 1, 2, 3, 4, 5, 4, 2, 2, 2, 1, 2, 3, 4, 5, 1, 2, 3, 4, 5, 2, 3, 1, 2, 3, 4, 5, 3, 2, 1, 2, 5, 5, 3, 1, 2, 3, 4, 5, 1, 2, 3, 4, 5, 1, 2, 3, 4, 5, 4, 4, 1, 2, 4, 4, 5, 3, 1, 3, 5, 2, 3, 2, 5, 1, 2, 3, 4, 5, 3, 4, 5, 1, 4, 5, 1, 2, 5, 5, 1, 1, 2, 5, 5, 1, 2, 4, 5, 2, 2, 5, 2, 4, 1, 2, 3, 4, 5, 1, 2, 4, 5, 3, 2, 5, 1, 2, 4, 5, 1, 2, 4, 5, 3, 2, 4, 1, 2, 4, 5, 2, 5, 2, 3, 3, 2, 3, 3, 1, 2, 3, 4, 5, 5, 1, 1, 2, 5, 1, 4, 1, 2, 3, 4, 5, 1, 2, 3, 4, 5, 1, 2, 3, 4, 5, 3, 1, 2, 3, 4, 5, 4, 1, 2, 5, 5, 1, 2, 3, 5, 2, 2, 4, 5, 1, 2, 3, 4, 5, 4, 2, 3, 4, 5, 1, 2, 4, 5, 4, 3, 1, 2, 4, 5, 2, 4, 2, 3, 5, 1, 4, 5, 2, 3, 4, 5, 1, 3], \"Freq\": [0.961176335811615, 0.9112642407417297, 0.04142110049724579, 0.9309317469596863, 0.05171843245625496, 0.9288462400436401, 0.04888664558529854, 0.9102861285209656, 0.936977207660675, 0.12539537250995636, 0.03582724928855896, 0.8240267038345337, 0.01791362464427948, 0.9613133072853088, 0.023341748863458633, 0.910328209400177, 0.04668349772691727, 0.10542032122612, 0.7379422187805176, 0.15227378904819489, 0.02838335931301117, 0.9650342464447021, 0.9699063301086426, 0.030519641935825348, 0.9644206762313843, 0.9413180947303772, 0.0672370046377182, 0.14359644055366516, 0.8328593373298645, 0.9718671441078186, 0.9696956276893616, 0.5627667903900146, 0.09556416422128677, 0.01061824057251215, 0.031854722648859024, 0.2973107397556305, 0.925687849521637, 0.2396826148033142, 0.25197404623031616, 0.2089540809392929, 0.08603991568088531, 0.2089540809392929, 0.8526244163513184, 0.02583710476756096, 0.12487933784723282, 0.33809971809387207, 0.43378832936286926, 0.0318962000310421, 0.10844708234071732, 0.08293011784553528, 0.9424649477005005, 0.9659635424613953, 0.14121714234352112, 0.2647821605205536, 0.07060857117176056, 0.5295643210411072, 0.921893835067749, 0.9834945797920227, 0.11402571201324463, 0.65157550573349, 0.1466044783592224, 0.040723469108343124, 0.057012856006622314, 0.9107905030250549, 0.05154718458652496, 0.927849292755127, 0.9611763954162598, 0.9993014335632324, 0.15006642043590546, 0.8003542423248291, 0.9102862477302551, 0.986514687538147, 0.9920555949211121, 0.9668050408363342, 0.8883772492408752, 0.0969138815999031, 0.972660481929779, 0.9589509963989258, 0.19262723624706268, 0.45680171251296997, 0.12658360600471497, 0.060539986938238144, 0.1651090532541275, 0.9357242584228516, 0.7165771126747131, 0.04154070466756821, 0.17654798924922943, 0.06231105327606201, 0.9482719898223877, 0.9606273770332336, 0.9459388256072998, 0.021998576819896698, 0.021998576819896698, 0.057905569672584534, 0.8917457461357117, 0.04632445424795151, 0.931950032711029, 0.9231922626495361, 0.29530683159828186, 0.15749697387218475, 0.36093056201934814, 0.18374647200107574, 0.4522925615310669, 0.15947887301445007, 0.03398730233311653, 0.1281059831380844, 0.22483907639980316, 0.9668064713478088, 0.027046438306570053, 0.946625292301178, 0.509418249130249, 0.2512199580669403, 0.027913328260183334, 0.0837399810552597, 0.12560997903347015, 0.9004141092300415, 0.8849849104881287, 0.05531155690550804, 0.02765577845275402, 0.02765577845275402, 0.35204675793647766, 0.5511842966079712, 0.09245672076940536, 0.6145508289337158, 0.13315267860889435, 0.06145508587360382, 0.18436525762081146, 0.9873063564300537, 0.9569798707962036, 0.9407455921173096, 0.344124436378479, 0.1305299550294876, 0.29072582721710205, 0.035599078983068466, 0.20172812044620514, 0.4744664430618286, 0.13990677893161774, 0.13382387161254883, 0.12774096429347992, 0.12165806442499161, 0.7542963027954102, 0.08012671768665314, 0.022103922441601753, 0.08288970589637756, 0.06078578531742096, 0.2591177523136139, 0.09966067224740982, 0.6378282904624939, 0.025963271036744118, 0.18174289166927338, 0.20770616829395294, 0.5711919665336609, 0.9738060235977173, 0.988683819770813, 0.9478210806846619, 0.9424540996551514, 0.9102990627288818, 0.9375122785568237, 0.9266317486763, 0.07143856585025787, 0.011906427331268787, 0.863215982913971, 0.005953213665634394, 0.04762570932507515, 0.984749436378479, 0.9004305005073547, 0.9806473255157471, 0.10542335361242294, 0.790675163269043, 0.10542335361242294, 0.9784078001976013, 0.1382569968700409, 0.8295419812202454, 0.770764172077179, 0.22480621933937073, 0.9117305874824524, 0.18130899965763092, 0.29734674096107483, 0.08702831715345383, 0.18130899965763092, 0.2538325786590576, 0.28006309270858765, 0.2944253087043762, 0.15080320835113525, 0.28006309270858765, 0.10467271506786346, 0.1884108930826187, 0.41869086027145386, 0.22330179810523987, 0.06280363351106644, 0.005413631908595562, 0.9906946420669556, 0.8967666625976562, 0.9265540242195129, 0.9658083319664001, 0.9773659110069275, 0.9375444650650024, 0.9900132417678833, 0.47251445055007935, 0.23859640955924988, 0.1450291872024536, 0.1403508335351944, 0.13338930904865265, 0.19616074860095978, 0.5257108211517334, 0.13338930904865265, 0.17154145240783691, 0.5247150659561157, 0.30272021889686584, 0.2457936853170395, 0.1334308683872223, 0.4986100494861603, 0.0280907079577446, 0.0983174741268158, 0.9950148463249207, 0.9923306107521057, 0.9212654829025269, 0.054192084819078445, 0.9231163859367371, 0.051284242421388626, 0.29334357380867004, 0.2262936234474182, 0.07124058902263641, 0.2640092372894287, 0.14248117804527283, 0.18676325678825378, 0.06791391223669052, 0.15280629694461823, 0.6112251877784729, 0.9263248443603516, 0.9692613482475281, 0.9407562017440796, 0.03548792749643326, 0.762990415096283, 0.11711015552282333, 0.01774396374821663, 0.06387826800346375, 0.9481516480445862, 0.3196437358856201, 0.33844631910324097, 0.05640771985054016, 0.18175821006298065, 0.10654791444540024, 0.060245804488658905, 0.03346988931298256, 0.8769111037254333, 0.026775911450386047, 0.006693977862596512, 0.060878902673721313, 0.9131835103034973, 0.9440305829048157, 0.0389002300798893, 0.12966743111610413, 0.8169047832489014, 0.30368950963020325, 0.3846733570098877, 0.12957419455051422, 0.048590321093797684, 0.1336233764886856, 0.9785716533660889, 0.9265772700309753, 0.010316072963178158, 0.1547410935163498, 0.7943376302719116, 0.030948219820857048, 0.5700607895851135, 0.2075943946838379, 0.09555932134389877, 0.12521566450595856, 0.9834944605827332, 0.9422699809074402, 0.04487000033259392, 0.9864491820335388, 0.09154877066612244, 0.18309754133224487, 0.6931549906730652, 0.026156792417168617, 0.8542553186416626, 0.13142389059066772, 0.08101533353328705, 0.5323864817619324, 0.09258895367383957, 0.08101533353328705, 0.20832514762878418, 0.8416049480438232, 0.04809171333909035, 0.04809171333909035, 0.07213756442070007, 0.9589569568634033, 0.02643219567835331, 0.8326141834259033, 0.09251268953084946, 0.03964829444885254, 0.9213636517524719, 0.010470041073858738, 0.06282024830579758, 0.8214108347892761, 0.03733685612678528, 0.12445618212223053, 0.012445618398487568, 0.9718675017356873, 0.931950032711029, 0.9117547869682312, 0.062165096402168274, 0.05395371466875076, 0.9172131419181824, 0.44721102714538574, 0.29661956429481506, 0.0182535108178854, 0.0365070216357708, 0.20078861713409424, 0.11417508870363235, 0.7278661727905273, 0.06422348320484161, 0.08563131839036942, 0.24494212865829468, 0.47104254364967346, 0.08478765934705734, 0.08478765934705734, 0.12247106432914734, 0.13422542810440063, 0.35234174132347107, 0.01677817851305008, 0.4865671694278717, 0.18580713868141174, 0.40346693992614746, 0.09024918079376221, 0.31321775913238525, 0.9369790554046631, 0.02135750651359558, 0.09610877931118011, 0.7688702344894409, 0.1067875325679779, 0.9910845756530762, 0.9004243016242981, 0.9888551235198975, 0.3904999792575836, 0.09188234806060791, 0.5283235311508179, 0.03390073403716087, 0.10170220583677292, 0.7966672778129578, 0.05085110291838646, 0.016950367018580437, 0.05244665965437889, 0.7604765892028809, 0.07866998761892319, 0.09615220874547958, 0.03397105261683464, 0.06794210523366928, 0.8153052926063538, 0.08492763340473175, 0.9771801233291626, 0.016019346192479134, 0.31805306673049927, 0.4240707457065582, 0.04077603295445442, 0.048931241035461426, 0.1631041318178177, 0.9830999970436096, 0.9648335576057434, 0.058131538331508636, 0.9010388255119324, 0.029065769165754318, 0.3778941035270691, 0.31845009326934814, 0.12313403189182281, 0.042460013180971146, 0.1358720362186432, 0.9737293124198914, 0.0610453337430954, 0.9360284209251404, 0.6359542608261108, 0.12719085812568665, 0.1421544849872589, 0.08978177607059479, 0.9611978530883789, 0.0720217153429985, 0.0720217153429985, 0.7922388911247253, 0.9048866629600525, 0.09525122493505478, 0.24278682470321655, 0.3717673122882843, 0.12139341235160828, 0.07966442406177521, 0.18967720866203308, 0.2474970519542694, 0.19990146160125732, 0.07615293562412262, 0.47595587372779846, 0.8917663097381592, 0.37397298216819763, 0.06232883036136627, 0.03835620358586311, 0.41232919692993164, 0.11027408391237259, 0.9683271050453186, 0.9874148368835449, 0.954653263092041, 0.9849413633346558, 0.08097995072603226, 0.8502894639968872, 0.04048997536301613, 0.8652054667472839, 0.11798255890607834, 0.16348424553871155, 0.6931731700897217, 0.0065393694676458836, 0.13078738749027252, 0.9312639832496643, 0.0490138940513134, 0.24842064082622528, 0.30451563000679016, 0.16427816450595856, 0.23239350318908691, 0.0480814129114151, 0.9810448288917542, 0.9743642210960388, 0.9360355734825134, 0.05850222334265709, 0.43059149384498596, 0.28706100583076477, 0.04933860898017883, 0.09419189393520355, 0.13455983996391296, 0.9842168092727661, 0.14245720207691193, 0.14245720207691193, 0.07122860103845596, 0.6410574316978455, 0.6198043823242188, 0.16858679056167603, 0.16858679056167603, 0.044625911861658096, 0.8931864500045776, 0.037216104567050934, 0.06202683970332146, 0.05136192589998245, 0.025680962949991226, 0.898833692073822, 0.9102859497070312, 0.03548496961593628, 0.9580941796302795, 0.9106264710426331, 0.2621236741542816, 0.06989964842796326, 0.5941470265388489, 0.05242473632097244, 0.24389193952083588, 0.6097298264503479, 0.14904507994651794, 0.06798280775547028, 0.8837764859199524, 0.8967368602752686, 0.8917580842971802, 0.9840427041053772, 0.3363368511199951, 0.01770193874835968, 0.6018659472465515, 0.03540387749671936, 0.13577650487422943, 0.7486055493354797, 0.011008905246853828, 0.10641942173242569, 0.6547848582267761, 0.18888024985790253, 0.025184033438563347, 0.1322161704301834, 0.15078705549240112, 0.7108532190322876, 0.021541006863117218, 0.10770503431558609, 0.9568389654159546, 0.7098751664161682, 0.006959560327231884, 0.027838241308927536, 0.16702944040298462, 0.09047428518533707, 0.9470358490943909, 0.9658083319664001, 0.9373946785926819, 0.9256653189659119, 0.9375123381614685, 0.9719388484954834, 0.9089715480804443, 0.07726968824863434, 0.12142379581928253, 0.2538861334323883, 0.4305025637149811, 0.12142379581928253, 0.9742653965950012, 0.9478691220283508, 0.9256179928779602, 0.9262399077415466, 0.20026074349880219, 0.49111562967300415, 0.1668839454650879, 0.06198546662926674, 0.08105792105197906, 0.6122423410415649, 0.23784953355789185, 0.04404621198773384, 0.02202310599386692, 0.08368779718875885, 0.93759685754776, 0.9840428233146667, 0.3046151101589203, 0.3401535451412201, 0.030461510643363, 0.12692296504974365, 0.19799982011318207, 0.9897503852844238, 0.9714946746826172, 0.867230236530304, 0.11241873353719711, 0.016059819608926773, 0.9004166722297668, 0.9861927032470703, 0.14501383900642395, 0.16791076958179474, 0.5418938398361206, 0.02289692312479019, 0.12211692333221436, 0.29474931955337524, 0.11989802122116089, 0.27476629614830017, 0.07493626326322556, 0.2348002940416336, 0.726715087890625, 0.09727682173252106, 0.051499493420124054, 0.0228886641561985, 0.09727682173252106, 0.9232028126716614, 0.982801079750061, 0.20150578022003174, 0.028786540031433105, 0.7484500408172607, 0.9611765742301941, 0.978570282459259, 0.9840428233146667, 0.9319530725479126, 0.976137101650238, 0.020768873393535614, 0.9375125765800476, 0.9897501468658447, 0.9121445417404175, 0.939171552658081, 0.36665669083595276, 0.2875738739967346, 0.03594673424959183, 0.17254431545734406, 0.14019225537776947, 0.8979460597038269, 0.08979460597038269, 0.022448651492595673, 0.9553986191749573, 0.8859429359436035, 0.08437551558017731, 0.899395763874054, 0.029979858547449112, 0.059959717094898224, 0.9811021685600281, 0.910286009311676, 0.8544303178787231, 0.02848101034760475, 0.08544302731752396, 0.9668905138969421, 0.33651694655418396, 0.4755130708217621, 0.05120909959077835, 0.13899612426757812, 0.9478983283042908, 0.9238069653511047, 0.057737935334444046, 0.9908810257911682, 0.9569864273071289, 0.3472459614276886, 0.19158397614955902, 0.05986999347805977, 0.07184398919343948, 0.335271954536438, 0.04358122870326042, 0.029054153710603714, 0.9006787538528442, 0.014527076855301857, 0.9692612290382385, 0.8879124522209167, 0.08456309139728546, 0.15630929172039032, 0.7368866801261902, 0.06698969751596451, 0.022329900413751602, 0.482068806886673, 0.25293734669685364, 0.1339080035686493, 0.1309322714805603, 0.9926466345787048, 0.9045907855033875, 0.04761004075407982, 0.02693866193294525, 0.754282534122467, 0.08081598579883575, 0.13469330966472626, 0.95456862449646, 0.042113322764635086, 0.019482938572764397, 0.9741469621658325, 0.9661105871200562, 0.014938986860215664, 0.9710341691970825, 0.998145341873169, 0.04560355469584465, 0.03420266509056091, 0.5814452767372131, 0.12540976703166962, 0.21661688387393951, 0.9004146456718445, 0.9786829352378845, 0.9411433935165405, 0.033612266182899475, 0.025209197774529457, 0.014211808331310749, 0.9806147813796997, 0.6633298397064209, 0.1489107757806778, 0.06091804802417755, 0.020306015387177467, 0.11506742238998413, 0.03768257424235344, 0.01884128712117672, 0.3014605939388275, 0.602921187877655, 0.03768257424235344, 0.4190998077392578, 0.14528793096542358, 0.03352798521518707, 0.27381187677383423, 0.1341119408607483, 0.9848570227622986, 0.5250910520553589, 0.13285435736179352, 0.06326398253440857, 0.10754876583814621, 0.17081275582313538, 0.9923863410949707, 0.7080379724502563, 0.14084625244140625, 0.1484595686197281, 0.9004431962966919, 0.03644208610057831, 0.08503153175115585, 0.8746100664138794, 0.012147361412644386, 0.9117742776870728, 0.049603018909692764, 0.6944422721862793, 0.24801509082317352, 0.31008732318878174, 0.41723793745040894, 0.01623493805527687, 0.08279819041490555, 0.1720903515815735, 0.9816728234291077, 0.017809340730309486, 0.8904670476913452, 0.05342802032828331, 0.017809340730309486, 0.2480980008840561, 0.15206006169319153, 0.3601422607898712, 0.2400948405265808, 0.9660019278526306, 0.9914529919624329, 0.17818380892276764, 0.15272898972034454, 0.6618255972862244, 0.9004570245742798, 0.9225923418998718, 0.05766202136874199, 0.13348771631717682, 0.8342982530593872, 0.016685964539647102, 0.06589314341545105, 0.09883970767259598, 0.8236642479896545, 0.016507631167769432, 0.907919704914093, 0.033015262335538864, 0.04952289164066315, 0.9547210931777954, 0.986192524433136], \"Term\": [\"abraham\", \"agung\", \"agung\", \"airbnb\", \"airbnb\", \"airlangga\", \"airlangga\", \"akreditasi\", \"algo\", \"amerika\", \"amerika\", \"amerika\", \"amerika\", \"ap\", \"apartemen\", \"apartemen\", \"apartemen\", \"aplikasi\", \"aplikasi\", \"aplikasi\", \"arab\", \"arab\", \"argentina\", \"as\", \"as\", \"asean\", \"asean\", \"asuransi\", \"asuransi\", \"babi\", \"bahrain\", \"baik\", \"baik\", \"baik\", \"baik\", \"baik\", \"banget\", \"bangun\", \"bangun\", \"bangun\", \"bangun\", \"bangun\", \"bank\", \"bank\", \"bank\", \"bantu\", \"bantu\", \"bantu\", \"bantu\", \"bantu\", \"banyuwangi\", \"barel\", \"bayar\", \"bayar\", \"bayar\", \"bayar\", \"bci\", \"bedrooms\", \"beli\", \"beli\", \"beli\", \"beli\", \"beli\", \"bi\", \"biden\", \"biden\", \"bin\", \"bintaro\", \"bioskop\", \"bioskop\", \"bjb\", \"bni\", \"bri\", \"bridgestone\", \"btn\", \"btn\", \"bukopin\", \"bus\", \"butuh\", \"butuh\", \"butuh\", \"butuh\", \"butuh\", \"cabut\", \"catat\", \"catat\", \"catat\", \"catat\", \"cema\", \"centre\", \"chicago\", \"chicago\", \"chicago\", \"china\", \"china\", \"china\", \"clip\", \"cnn\", \"corona\", \"corona\", \"corona\", \"corona\", \"covid\", \"covid\", \"covid\", \"covid\", \"covid\", \"crm\", \"damai\", \"damai\", \"dampak\", \"dampak\", \"dampak\", \"dampak\", \"dampak\", \"darmawan\", \"desa\", \"desa\", \"desa\", \"desa\", \"digital\", \"digital\", \"digital\", \"direktur\", \"direktur\", \"direktur\", \"direktur\", \"dok\", \"donald\", \"dpk\", \"dukung\", \"dukung\", \"dukung\", \"dukung\", \"dukung\", \"dunia\", \"dunia\", \"dunia\", \"dunia\", \"dunia\", \"ekonomi\", \"ekonomi\", \"ekonomi\", \"ekonomi\", \"ekonomi\", \"ekspor\", \"ekspor\", \"ekspor\", \"energi\", \"energi\", \"energi\", \"energi\", \"eri\", \"eropa\", \"esports\", \"ewallet\", \"express\", \"faizal\", \"fajriyah\", \"fasilitas\", \"fasilitas\", \"fasilitas\", \"fasilitas\", \"fasilitas\", \"festival\", \"film\", \"garden\", \"gas\", \"gas\", \"gas\", \"generasi\", \"gofood\", \"gofood\", \"gojek\", \"gojek\", \"gulali\", \"harga\", \"harga\", \"harga\", \"harga\", \"harga\", \"hasil\", \"hasil\", \"hasil\", \"hasil\", \"hubung\", \"hubung\", \"hubung\", \"hubung\", \"hubung\", \"huni\", \"huni\", \"ibm\", \"idaaa\", \"ifg\", \"iii\", \"ikhsan\", \"indah\", \"industri\", \"industri\", \"industri\", \"industri\", \"informasi\", \"informasi\", \"informasi\", \"informasi\", \"inovasi\", \"inovasi\", \"inovasi\", \"investasi\", \"investasi\", \"investasi\", \"investasi\", \"investasi\", \"iran\", \"israel\", \"italia\", \"italia\", \"jabar\", \"jabar\", \"jalan\", \"jalan\", \"jalan\", \"jalan\", \"jalan\", \"janji\", \"janji\", \"janji\", \"janji\", \"jaygan\", \"jogging\", \"jt\", \"jual\", \"jual\", \"jual\", \"jual\", \"jual\", \"juara\", \"juta\", \"juta\", \"juta\", \"juta\", \"juta\", \"kawasan\", \"kawasan\", \"kawasan\", \"kawasan\", \"kawasan\", \"kb\", \"kb\", \"kedai\", \"keluarga\", \"keluarga\", \"keluarga\", \"kembang\", \"kembang\", \"kembang\", \"kembang\", \"kembang\", \"kemenparekraf\", \"kepiting\", \"kereta\", \"kereta\", \"kereta\", \"kereta\", \"kerja\", \"kerja\", \"kerja\", \"kerja\", \"kids\", \"komite\", \"komite\", \"kompag\", \"konsep\", \"konsep\", \"konsep\", \"konsep\", \"konstruksi\", \"konstruksi\", \"konsumen\", \"konsumen\", \"konsumen\", \"konsumen\", \"konsumen\", \"kontribusi\", \"kontribusi\", \"kontribusi\", \"kontribusi\", \"kookmin\", \"kopi\", \"kopi\", \"kopi\", \"kopi\", \"kredit\", \"kredit\", \"kredit\", \"kuartal\", \"kuartal\", \"kuartal\", \"kuartal\", \"kuping\", \"kur\", \"laba\", \"laba\", \"labuh\", \"labuh\", \"laku\", \"laku\", \"laku\", \"laku\", \"laku\", \"langgan\", \"langgan\", \"langgan\", \"langgan\", \"langsung\", \"langsung\", \"langsung\", \"langsung\", \"langsung\", \"latih\", \"latih\", \"latih\", \"latih\", \"layan\", \"layan\", \"layan\", \"layan\", \"lee\", \"lengkap\", \"lengkap\", \"lengkap\", \"lengkap\", \"lift\", \"lil\", \"living\", \"logistik\", \"logistik\", \"logistik\", \"lokasi\", \"lokasi\", \"lokasi\", \"lokasi\", \"lokasi\", \"makan\", \"makan\", \"makan\", \"makan\", \"mal\", \"mal\", \"mal\", \"mal\", \"mall\", \"mall\", \"manfaat\", \"manfaat\", \"manfaat\", \"manfaat\", \"manfaat\", \"manhattan\", \"marketplace\", \"maskapai\", \"maskapai\", \"maskapai\", \"masyarakat\", \"masyarakat\", \"masyarakat\", \"masyarakat\", \"masyarakat\", \"menandatangani\", \"menit\", \"menit\", \"menteri\", \"menteri\", \"menteri\", \"menteri\", \"merkel\", \"migas\", \"migas\", \"migas\", \"milenial\", \"milenial\", \"milik\", \"milik\", \"milik\", \"milik\", \"milik\", \"mitra\", \"mitra\", \"mitra\", \"mitra\", \"mro\", \"negara\", \"negara\", \"negara\", \"negara\", \"negara\", \"netanyahu\", \"nggak\", \"nixon\", \"odoo\", \"olah\", \"olah\", \"olah\", \"omzet\", \"omzet\", \"online\", \"online\", \"online\", \"online\", \"open\", \"open\", \"orang\", \"orang\", \"orang\", \"orang\", \"orang\", \"ovo\", \"palestina\", \"pariwisata\", \"pariwisata\", \"pasar\", \"pasar\", \"pasar\", \"pasar\", \"pasar\", \"perban\", \"peringkat\", \"peringkat\", \"peringkat\", \"peringkat\", \"perintah\", \"perintah\", \"perintah\", \"perintah\", \"persero\", \"persero\", \"persero\", \"pertamina\", \"pertamina\", \"pertamina\", \"pesantren\", \"pesawat\", \"pesawat\", \"pia\", \"pimpin\", \"pimpin\", \"pimpin\", \"pimpin\", \"platform\", \"platform\", \"platform\", \"pln\", \"pln\", \"pnm\", \"po\", \"pondok\", \"presiden\", \"presiden\", \"presiden\", \"presiden\", \"produk\", \"produk\", \"produk\", \"produk\", \"program\", \"program\", \"program\", \"program\", \"promosi\", \"promosi\", \"promosi\", \"promosi\", \"pss\", \"pulih\", \"pulih\", \"pulih\", \"pulih\", \"pulih\", \"putih\", \"qu\", \"rajin\", \"rambut\", \"ramesh\", \"rei\", \"rekor\", \"rencana\", \"rencana\", \"rencana\", \"rencana\", \"rencana\", \"reuters\", \"robinhood\", \"roti\", \"royke\", \"rumah\", \"rumah\", \"rumah\", \"rumah\", \"rumah\", \"rupiah\", \"rupiah\", \"rupiah\", \"rupiah\", \"rupiah\", \"ruu\", \"sakura\", \"salah\", \"salah\", \"salah\", \"salah\", \"salah\", \"salju\", \"salon\", \"salur\", \"salur\", \"salur\", \"scania\", \"schindler\", \"sedia\", \"sedia\", \"sedia\", \"sedia\", \"sedia\", \"sehat\", \"sehat\", \"sehat\", \"sehat\", \"sehat\", \"sektor\", \"sektor\", \"sektor\", \"sektor\", \"sektor\", \"senjata\", \"sepakat\", \"serikat\", \"serikat\", \"serikat\", \"shinkansen\", \"shopeepay\", \"signature\", \"silvano\", \"sky\", \"sky\", \"sleman\", \"snow\", \"staf\", \"steak\", \"strategi\", \"strategi\", \"strategi\", \"strategi\", \"strategi\", \"studio\", \"studio\", \"studio\", \"sunarso\", \"swedia\", \"swedia\", \"tarif\", \"tarif\", \"tarif\", \"taspen\", \"taufan\", \"tbk\", \"tbk\", \"tbk\", \"teguk\", \"teknologi\", \"teknologi\", \"teknologi\", \"teknologi\", \"telekomunikasi\", \"telepon\", \"telepon\", \"telkomsel\", \"teluk\", \"terap\", \"terap\", \"terap\", \"terap\", \"terap\", \"terbang\", \"terbang\", \"terbang\", \"terbang\", \"terrace\", \"thailand\", \"thailand\", \"tim\", \"tim\", \"tim\", \"tim\", \"tingkat\", \"tingkat\", \"tingkat\", \"tingkat\", \"tipe\", \"tipu\", \"tipu\", \"toko\", \"toko\", \"toko\", \"toko\", \"tokopedia\", \"tokopedia\", \"tower\", \"tower\", \"track\", \"trans\", \"trans\", \"transpark\", \"transportasi\", \"transportasi\", \"transportasi\", \"transportasi\", \"transportasi\", \"traveloka\", \"trend\", \"triliun\", \"triliun\", \"triliun\", \"trump\", \"trump\", \"tumbuh\", \"tumbuh\", \"tumbuh\", \"tumbuh\", \"tumbuh\", \"tumpang\", \"tumpang\", \"tumpang\", \"tumpang\", \"tumpang\", \"turun\", \"turun\", \"turun\", \"turun\", \"turun\", \"type\", \"uang\", \"uang\", \"uang\", \"uang\", \"uang\", \"uea\", \"umkm\", \"umkm\", \"umkm\", \"undi\", \"unjung\", \"unjung\", \"unjung\", \"unjung\", \"urbanisasi\", \"us\", \"us\", \"us\", \"usaha\", \"usaha\", \"usaha\", \"usaha\", \"usaha\", \"utang\", \"via\", \"via\", \"via\", \"via\", \"virus\", \"virus\", \"virus\", \"virus\", \"visa\", \"wahana\", \"warga\", \"warga\", \"warga\", \"warner\", \"website\", \"website\", \"whatsapp\", \"whatsapp\", \"whatsapp\", \"who\", \"who\", \"who\", \"world\", \"world\", \"world\", \"world\", \"yoy\", \"zen\"]}, \"R\": 30, \"lambda.step\": 0.01, \"plot.opts\": {\"xlab\": \"PC1\", \"ylab\": \"PC2\"}, \"topic.order\": [5, 2, 3, 1, 4]};\n",
       "\n",
       "function LDAvis_load_lib(url, callback){\n",
       "  var s = document.createElement('script');\n",
       "  s.src = url;\n",
       "  s.async = true;\n",
       "  s.onreadystatechange = s.onload = callback;\n",
       "  s.onerror = function(){console.warn(\"failed to load library \" + url);};\n",
       "  document.getElementsByTagName(\"head\")[0].appendChild(s);\n",
       "}\n",
       "\n",
       "if(typeof(LDAvis) !== \"undefined\"){\n",
       "   // already loaded: just create the visualization\n",
       "   !function(LDAvis){\n",
       "       new LDAvis(\"#\" + \"ldavis_el1516821372242259524086750675\", ldavis_el1516821372242259524086750675_data);\n",
       "   }(LDAvis);\n",
       "}else if(typeof define === \"function\" && define.amd){\n",
       "   // require.js is available: use it to load d3/LDAvis\n",
       "   require.config({paths: {d3: \"https://cdnjs.cloudflare.com/ajax/libs/d3/3.5.5/d3.min\"}});\n",
       "   require([\"d3\"], function(d3){\n",
       "      window.d3 = d3;\n",
       "      LDAvis_load_lib(\"https://cdn.rawgit.com/bmabey/pyLDAvis/files/ldavis.v1.0.0.js\", function(){\n",
       "        new LDAvis(\"#\" + \"ldavis_el1516821372242259524086750675\", ldavis_el1516821372242259524086750675_data);\n",
       "      });\n",
       "    });\n",
       "}else{\n",
       "    // require.js not available: dynamically load d3 & LDAvis\n",
       "    LDAvis_load_lib(\"https://cdnjs.cloudflare.com/ajax/libs/d3/3.5.5/d3.min.js\", function(){\n",
       "         LDAvis_load_lib(\"https://cdn.rawgit.com/bmabey/pyLDAvis/files/ldavis.v1.0.0.js\", function(){\n",
       "                 new LDAvis(\"#\" + \"ldavis_el1516821372242259524086750675\", ldavis_el1516821372242259524086750675_data);\n",
       "            })\n",
       "         });\n",
       "}\n",
       "</script>"
      ],
      "text/plain": [
       "PreparedData(topic_coordinates=              x         y  topics  cluster       Freq\n",
       "topic                                                \n",
       "4      0.102515  0.039088       1        1  29.704439\n",
       "1      0.058719  0.088944       2        1  23.083166\n",
       "2     -0.303629 -0.001225       3        1  18.019217\n",
       "0      0.073484 -0.188821       4        1  15.316038\n",
       "3      0.068911  0.062014       5        1  13.877140, topic_info=            Term        Freq       Total Category  logprob  loglift\n",
       "3009     bintaro  436.000000  436.000000  Default  30.0000  30.0000\n",
       "3266   transpark  350.000000  350.000000  Default  29.0000  29.0000\n",
       "778         huni  184.000000  184.000000  Default  28.0000  28.0000\n",
       "1064          as  163.000000  163.000000  Default  27.0000  27.0000\n",
       "495    fasilitas  167.000000  167.000000  Default  26.0000  26.0000\n",
       "...          ...         ...         ...      ...      ...      ...\n",
       "510      kembang   32.858215  246.962769   Topic5  -5.7034  -0.0421\n",
       "525   masyarakat   32.254238  235.515717   Topic5  -5.7220  -0.0132\n",
       "142     industri   30.440439  213.750076   Topic5  -5.7799   0.0259\n",
       "347        pasar   30.486300  222.949127   Topic5  -5.7784  -0.0147\n",
       "578        butuh   29.649132  181.698090   Topic5  -5.8062   0.1620\n",
       "\n",
       "[360 rows x 6 columns], token_table=      Topic      Freq     Term\n",
       "term                          \n",
       "6671      4  0.961176  abraham\n",
       "2790      1  0.911264    agung\n",
       "2790      4  0.041421    agung\n",
       "2449      4  0.930932   airbnb\n",
       "2449      5  0.051718   airbnb\n",
       "...     ...       ...      ...\n",
       "224       3  0.907920    world\n",
       "224       4  0.033015    world\n",
       "224       5  0.049523    world\n",
       "2231      1  0.954721      yoy\n",
       "3285      3  0.986193      zen\n",
       "\n",
       "[693 rows x 3 columns], R=30, lambda_step=0.01, plot_opts={'xlab': 'PC1', 'ylab': 'PC2'}, topic_order=[5, 2, 3, 1, 4])"
      ]
     },
     "execution_count": 89,
     "metadata": {},
     "output_type": "execute_result"
    }
   ],
   "source": [
    "# proses ini mungkin agak lama\n",
    "LDAvis_prepared"
   ]
  },
  {
   "cell_type": "code",
   "execution_count": null,
   "metadata": {},
   "outputs": [],
   "source": []
  },
  {
   "cell_type": "markdown",
   "metadata": {},
   "source": [
    "# References"
   ]
  },
  {
   "cell_type": "markdown",
   "metadata": {},
   "source": [
    "https://yunusmuhammad007.medium.com/text-preprocessing-menggunakan-pandas-nltk-dan-sastrawi-untuk-large-dataset-5fb3c0a88571\n",
    "\n",
    "https://towardsdatascience.com/end-to-end-topic-modeling-in-python-latent-dirichlet-allocation-lda-35ce4ed6b3e0\n",
    "\n"
   ]
  }
 ],
 "metadata": {
  "kernelspec": {
   "display_name": "Python 3",
   "language": "python",
   "name": "python3"
  },
  "language_info": {
   "codemirror_mode": {
    "name": "ipython",
    "version": 3
   },
   "file_extension": ".py",
   "mimetype": "text/x-python",
   "name": "python",
   "nbconvert_exporter": "python",
   "pygments_lexer": "ipython3",
   "version": "3.8.3"
  }
 },
 "nbformat": 4,
 "nbformat_minor": 4
}
